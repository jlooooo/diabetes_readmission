{
 "cells": [
  {
   "cell_type": "code",
   "execution_count": 1,
   "id": "99579833",
   "metadata": {},
   "outputs": [],
   "source": [
    "import numpy as np\n",
    "import pandas as pd"
   ]
  },
  {
   "cell_type": "code",
   "execution_count": 2,
   "id": "c8cb283a",
   "metadata": {},
   "outputs": [],
   "source": [
    "df = pd.read_csv('/Users/jiaqiliu/opt/anaconda3/a_fall2021/diabetic_data.csv', delimiter = ',')"
   ]
  },
  {
   "cell_type": "code",
   "execution_count": 3,
   "id": "939daac9",
   "metadata": {},
   "outputs": [
    {
     "data": {
      "text/html": [
       "<div>\n",
       "<style scoped>\n",
       "    .dataframe tbody tr th:only-of-type {\n",
       "        vertical-align: middle;\n",
       "    }\n",
       "\n",
       "    .dataframe tbody tr th {\n",
       "        vertical-align: top;\n",
       "    }\n",
       "\n",
       "    .dataframe thead th {\n",
       "        text-align: right;\n",
       "    }\n",
       "</style>\n",
       "<table border=\"1\" class=\"dataframe\">\n",
       "  <thead>\n",
       "    <tr style=\"text-align: right;\">\n",
       "      <th></th>\n",
       "      <th>encounter_id</th>\n",
       "      <th>patient_nbr</th>\n",
       "      <th>admission_type_id</th>\n",
       "      <th>discharge_disposition_id</th>\n",
       "      <th>admission_source_id</th>\n",
       "      <th>time_in_hospital</th>\n",
       "      <th>num_lab_procedures</th>\n",
       "      <th>num_procedures</th>\n",
       "      <th>num_medications</th>\n",
       "      <th>number_outpatient</th>\n",
       "      <th>number_emergency</th>\n",
       "      <th>number_inpatient</th>\n",
       "      <th>number_diagnoses</th>\n",
       "    </tr>\n",
       "  </thead>\n",
       "  <tbody>\n",
       "    <tr>\n",
       "      <th>count</th>\n",
       "      <td>1.017660e+05</td>\n",
       "      <td>1.017660e+05</td>\n",
       "      <td>101766.000000</td>\n",
       "      <td>101766.000000</td>\n",
       "      <td>101766.000000</td>\n",
       "      <td>101766.000000</td>\n",
       "      <td>101766.000000</td>\n",
       "      <td>101766.000000</td>\n",
       "      <td>101766.000000</td>\n",
       "      <td>101766.000000</td>\n",
       "      <td>101766.000000</td>\n",
       "      <td>101766.000000</td>\n",
       "      <td>101766.000000</td>\n",
       "    </tr>\n",
       "    <tr>\n",
       "      <th>mean</th>\n",
       "      <td>1.652016e+08</td>\n",
       "      <td>5.433040e+07</td>\n",
       "      <td>2.024006</td>\n",
       "      <td>3.715642</td>\n",
       "      <td>5.754437</td>\n",
       "      <td>4.395987</td>\n",
       "      <td>43.095641</td>\n",
       "      <td>1.339730</td>\n",
       "      <td>16.021844</td>\n",
       "      <td>0.369357</td>\n",
       "      <td>0.197836</td>\n",
       "      <td>0.635566</td>\n",
       "      <td>7.422607</td>\n",
       "    </tr>\n",
       "    <tr>\n",
       "      <th>std</th>\n",
       "      <td>1.026403e+08</td>\n",
       "      <td>3.869636e+07</td>\n",
       "      <td>1.445403</td>\n",
       "      <td>5.280166</td>\n",
       "      <td>4.064081</td>\n",
       "      <td>2.985108</td>\n",
       "      <td>19.674362</td>\n",
       "      <td>1.705807</td>\n",
       "      <td>8.127566</td>\n",
       "      <td>1.267265</td>\n",
       "      <td>0.930472</td>\n",
       "      <td>1.262863</td>\n",
       "      <td>1.933600</td>\n",
       "    </tr>\n",
       "    <tr>\n",
       "      <th>min</th>\n",
       "      <td>1.252200e+04</td>\n",
       "      <td>1.350000e+02</td>\n",
       "      <td>1.000000</td>\n",
       "      <td>1.000000</td>\n",
       "      <td>1.000000</td>\n",
       "      <td>1.000000</td>\n",
       "      <td>1.000000</td>\n",
       "      <td>0.000000</td>\n",
       "      <td>1.000000</td>\n",
       "      <td>0.000000</td>\n",
       "      <td>0.000000</td>\n",
       "      <td>0.000000</td>\n",
       "      <td>1.000000</td>\n",
       "    </tr>\n",
       "    <tr>\n",
       "      <th>25%</th>\n",
       "      <td>8.496119e+07</td>\n",
       "      <td>2.341322e+07</td>\n",
       "      <td>1.000000</td>\n",
       "      <td>1.000000</td>\n",
       "      <td>1.000000</td>\n",
       "      <td>2.000000</td>\n",
       "      <td>31.000000</td>\n",
       "      <td>0.000000</td>\n",
       "      <td>10.000000</td>\n",
       "      <td>0.000000</td>\n",
       "      <td>0.000000</td>\n",
       "      <td>0.000000</td>\n",
       "      <td>6.000000</td>\n",
       "    </tr>\n",
       "    <tr>\n",
       "      <th>50%</th>\n",
       "      <td>1.523890e+08</td>\n",
       "      <td>4.550514e+07</td>\n",
       "      <td>1.000000</td>\n",
       "      <td>1.000000</td>\n",
       "      <td>7.000000</td>\n",
       "      <td>4.000000</td>\n",
       "      <td>44.000000</td>\n",
       "      <td>1.000000</td>\n",
       "      <td>15.000000</td>\n",
       "      <td>0.000000</td>\n",
       "      <td>0.000000</td>\n",
       "      <td>0.000000</td>\n",
       "      <td>8.000000</td>\n",
       "    </tr>\n",
       "    <tr>\n",
       "      <th>75%</th>\n",
       "      <td>2.302709e+08</td>\n",
       "      <td>8.754595e+07</td>\n",
       "      <td>3.000000</td>\n",
       "      <td>4.000000</td>\n",
       "      <td>7.000000</td>\n",
       "      <td>6.000000</td>\n",
       "      <td>57.000000</td>\n",
       "      <td>2.000000</td>\n",
       "      <td>20.000000</td>\n",
       "      <td>0.000000</td>\n",
       "      <td>0.000000</td>\n",
       "      <td>1.000000</td>\n",
       "      <td>9.000000</td>\n",
       "    </tr>\n",
       "    <tr>\n",
       "      <th>max</th>\n",
       "      <td>4.438672e+08</td>\n",
       "      <td>1.895026e+08</td>\n",
       "      <td>8.000000</td>\n",
       "      <td>28.000000</td>\n",
       "      <td>25.000000</td>\n",
       "      <td>14.000000</td>\n",
       "      <td>132.000000</td>\n",
       "      <td>6.000000</td>\n",
       "      <td>81.000000</td>\n",
       "      <td>42.000000</td>\n",
       "      <td>76.000000</td>\n",
       "      <td>21.000000</td>\n",
       "      <td>16.000000</td>\n",
       "    </tr>\n",
       "  </tbody>\n",
       "</table>\n",
       "</div>"
      ],
      "text/plain": [
       "       encounter_id   patient_nbr  admission_type_id  \\\n",
       "count  1.017660e+05  1.017660e+05      101766.000000   \n",
       "mean   1.652016e+08  5.433040e+07           2.024006   \n",
       "std    1.026403e+08  3.869636e+07           1.445403   \n",
       "min    1.252200e+04  1.350000e+02           1.000000   \n",
       "25%    8.496119e+07  2.341322e+07           1.000000   \n",
       "50%    1.523890e+08  4.550514e+07           1.000000   \n",
       "75%    2.302709e+08  8.754595e+07           3.000000   \n",
       "max    4.438672e+08  1.895026e+08           8.000000   \n",
       "\n",
       "       discharge_disposition_id  admission_source_id  time_in_hospital  \\\n",
       "count             101766.000000        101766.000000     101766.000000   \n",
       "mean                   3.715642             5.754437          4.395987   \n",
       "std                    5.280166             4.064081          2.985108   \n",
       "min                    1.000000             1.000000          1.000000   \n",
       "25%                    1.000000             1.000000          2.000000   \n",
       "50%                    1.000000             7.000000          4.000000   \n",
       "75%                    4.000000             7.000000          6.000000   \n",
       "max                   28.000000            25.000000         14.000000   \n",
       "\n",
       "       num_lab_procedures  num_procedures  num_medications  number_outpatient  \\\n",
       "count       101766.000000   101766.000000    101766.000000      101766.000000   \n",
       "mean            43.095641        1.339730        16.021844           0.369357   \n",
       "std             19.674362        1.705807         8.127566           1.267265   \n",
       "min              1.000000        0.000000         1.000000           0.000000   \n",
       "25%             31.000000        0.000000        10.000000           0.000000   \n",
       "50%             44.000000        1.000000        15.000000           0.000000   \n",
       "75%             57.000000        2.000000        20.000000           0.000000   \n",
       "max            132.000000        6.000000        81.000000          42.000000   \n",
       "\n",
       "       number_emergency  number_inpatient  number_diagnoses  \n",
       "count     101766.000000     101766.000000     101766.000000  \n",
       "mean           0.197836          0.635566          7.422607  \n",
       "std            0.930472          1.262863          1.933600  \n",
       "min            0.000000          0.000000          1.000000  \n",
       "25%            0.000000          0.000000          6.000000  \n",
       "50%            0.000000          0.000000          8.000000  \n",
       "75%            0.000000          1.000000          9.000000  \n",
       "max           76.000000         21.000000         16.000000  "
      ]
     },
     "execution_count": 3,
     "metadata": {},
     "output_type": "execute_result"
    }
   ],
   "source": [
    "df.describe()"
   ]
  },
  {
   "cell_type": "code",
   "execution_count": 4,
   "id": "5a685480",
   "metadata": {},
   "outputs": [],
   "source": [
    "df = df.set_index('encounter_id')\n",
    "# setting encounter_id as index"
   ]
  },
  {
   "cell_type": "code",
   "execution_count": 5,
   "id": "7704cd51",
   "metadata": {},
   "outputs": [],
   "source": [
    "df = df.iloc[:, 1:]\n",
    "# getting rid of patient_nbr from data"
   ]
  },
  {
   "cell_type": "code",
   "execution_count": 6,
   "id": "b80fc00b",
   "metadata": {},
   "outputs": [
    {
     "name": "stdout",
     "output_type": "stream",
     "text": [
      "race ['Caucasian' 'AfricanAmerican' '?' 'Other' 'Asian' 'Hispanic']\n",
      "gender ['Female' 'Male' 'Unknown/Invalid']\n",
      "age ['[0-10)' '[10-20)' '[20-30)' '[30-40)' '[40-50)' '[50-60)' '[60-70)'\n",
      " '[70-80)' '[80-90)' '[90-100)']\n",
      "weight ['?' '[75-100)' '[50-75)' '[0-25)' '[100-125)' '[25-50)' '[125-150)'\n",
      " '[175-200)' '[150-175)' '>200']\n",
      "admission_type_id [6 1 2 3 4 5 8 7]\n",
      "discharge_disposition_id [25  1  3  6  2  5 11  7 10  4 14 18  8 13 12 16 17 22 23  9 20 15 24 28\n",
      " 19 27]\n",
      "admission_source_id [ 1  7  2  4  5  6 20  3 17  8  9 14 10 22 11 25 13]\n",
      "time_in_hospital [ 1  3  2  4  5 13 12  9  7 10  6 11  8 14]\n",
      "payer_code ['?' 'MC' 'MD' 'HM' 'UN' 'BC' 'SP' 'CP' 'SI' 'DM' 'CM' 'CH' 'PO' 'WC' 'OT'\n",
      " 'OG' 'MP' 'FR']\n",
      "medical_specialty ['Pediatrics-Endocrinology' '?' 'InternalMedicine'\n",
      " 'Family/GeneralPractice' 'Cardiology' 'Surgery-General' 'Orthopedics'\n",
      " 'Gastroenterology' 'Surgery-Cardiovascular/Thoracic' 'Nephrology'\n",
      " 'Orthopedics-Reconstructive' 'Psychiatry' 'Emergency/Trauma'\n",
      " 'Pulmonology' 'Surgery-Neuro' 'Obsterics&Gynecology-GynecologicOnco'\n",
      " 'ObstetricsandGynecology' 'Pediatrics' 'Hematology/Oncology'\n",
      " 'Otolaryngology' 'Surgery-Colon&Rectal' 'Pediatrics-CriticalCare'\n",
      " 'Endocrinology' 'Urology' 'Psychiatry-Child/Adolescent'\n",
      " 'Pediatrics-Pulmonology' 'Neurology' 'Anesthesiology-Pediatric'\n",
      " 'Radiology' 'Pediatrics-Hematology-Oncology' 'Psychology' 'Podiatry'\n",
      " 'Gynecology' 'Oncology' 'Pediatrics-Neurology' 'Surgery-Plastic'\n",
      " 'Surgery-Thoracic' 'Surgery-PlasticwithinHeadandNeck' 'Ophthalmology'\n",
      " 'Surgery-Pediatric' 'Pediatrics-EmergencyMedicine'\n",
      " 'PhysicalMedicineandRehabilitation' 'InfectiousDiseases' 'Anesthesiology'\n",
      " 'Rheumatology' 'AllergyandImmunology' 'Surgery-Maxillofacial'\n",
      " 'Pediatrics-InfectiousDiseases' 'Pediatrics-AllergyandImmunology'\n",
      " 'Dentistry' 'Surgeon' 'Surgery-Vascular' 'Osteopath'\n",
      " 'Psychiatry-Addictive' 'Surgery-Cardiovascular' 'PhysicianNotFound'\n",
      " 'Hematology' 'Proctology' 'Obstetrics' 'SurgicalSpecialty' 'Radiologist'\n",
      " 'Pathology' 'Dermatology' 'SportsMedicine' 'Speech' 'Hospitalist'\n",
      " 'OutreachServices' 'Cardiology-Pediatric' 'Perinatology'\n",
      " 'Neurophysiology' 'Endocrinology-Metabolism' 'DCPTEAM' 'Resident']\n",
      "num_lab_procedures [ 41  59  11  44  51  31  70  73  68  33  47  62  60  55  49  75  45  29\n",
      "  35  42  66  36  19  64  25  53  52  87  27  37  46  28  48  72  10   2\n",
      "  65  67  40  54  58  57  43  32  83  34  39  69  38  56  22  96  78  61\n",
      "  88  50   1  18  82   9  63  24  71  77  81  76  90  93   3 103  13  80\n",
      "  85  16  15  12  30  23  17  21  79  26   5  95  97  84  14  74 105  86\n",
      "  98  20   6  94   8 102 100   7  89  91  92   4 101  99 114 113 111 129\n",
      " 107 108 106 104 109 120 132 121 126 118]\n",
      "num_procedures [0 5 1 6 2 3 4]\n",
      "num_medications [ 1 18 13 16  8 21 12 28 17 11 15 31  2 23 19  7 20 14 10 22  9 27 25  4\n",
      " 32  6 30 26 24 33  5 39  3 29 61 40 46 41 36 34 35 50 43 42 37 51 38 45\n",
      " 54 52 49 62 55 47 44 53 48 57 59 56 60 63 58 70 67 64 69 65 68 66 81 79\n",
      " 75 72 74]\n",
      "number_outpatient [ 0  2  1  5  7  9  3  8  4 12 11  6 20 15 10 13 14 16 21 35 17 29 36 18\n",
      " 19 27 22 24 42 39 34 26 33 25 23 28 37 38 40]\n",
      "number_emergency [ 0  1  2  4  3  9  5  7  6  8 22 25 10 13 42 16 11 28 15 14 18 12 21 20\n",
      " 19 46 76 37 64 63 54 24 29]\n",
      "number_inpatient [ 0  1  2  3  6  5  4  7  8  9 15 10 11 14 12 13 17 16 21 18 19]\n",
      "diag_1 ['250.83' '276' '648' '8' '197' '414' '428' '398' '434' '250.7' '157'\n",
      " '518' '999' '410' '682' '402' '737' '572' 'V57' '189' '786' '427' '996'\n",
      " '277' '584' '462' '473' '411' '174' '486' '998' '511' '432' '626' '295'\n",
      " '196' '250.6' '618' '182' '845' '423' '808' '250.4' '722' '403' '250.11'\n",
      " '784' '707' '440' '151' '715' '997' '198' '564' '812' '38' '590' '556'\n",
      " '578' '250.32' '433' 'V58' '569' '185' '536' '255' '250.13' '599' '558'\n",
      " '574' '491' '560' '244' '250.03' '577' '730' '188' '824' '250.8' '332'\n",
      " '562' '291' '296' '510' '401' '263' '438' '70' '250.02' '493' '642' '625'\n",
      " '571' '738' '593' '250.42' '807' '456' '446' '575' '250.41' '820' '515'\n",
      " '780' '250.22' '995' '235' '250.82' '721' '787' '162' '724' '282' '514'\n",
      " 'V55' '281' '250.33' '530' '466' '435' '250.12' 'V53' '789' '566' '822'\n",
      " '191' '557' '733' '455' '711' '482' '202' '280' '553' '225' '154' '441'\n",
      " '250.81' '349' '?' '962' '592' '507' '386' '156' '200' '728' '348' '459'\n",
      " '426' '388' '607' '337' '82' '531' '596' '288' '656' '573' '492' '220'\n",
      " '516' '210' '922' '286' '885' '958' '661' '969' '250.93' '227' '112'\n",
      " '404' '823' '532' '416' '346' '535' '453' '250' '595' '211' '303'\n",
      " '250.01' '852' '218' '782' '540' '457' '285' '431' '340' '550' '54' '351'\n",
      " '601' '723' '555' '153' '443' '380' '204' '424' '241' '358' '694' '331'\n",
      " '345' '681' '447' '290' '158' '579' '436' '335' '309' '654' '805' '799'\n",
      " '292' '183' '78' '851' '458' '586' '311' '892' '305' '293' '415' '591'\n",
      " '794' '803' '79' '655' '429' '278' '658' '598' '729' '585' '444' '604'\n",
      " '727' '214' '552' '284' '680' '708' '41' '644' '481' '821' '413' '437'\n",
      " '968' '756' '632' '359' '275' '512' '781' '420' '368' '522' '294' '825'\n",
      " '135' '304' '320' '250.31' '669' '868' '496' '250.43' '826' '567' '3'\n",
      " '203' '53' '251' '565' '161' '495' '49' '250.1' '297' '663' '576' '355'\n",
      " '850' '287' '250.2' '611' '840' '350' '726' '537' '620' '180' '366' '783'\n",
      " '11' '751' '716' '250.3' '199' '464' '580' '836' '664' '283' '813' '966'\n",
      " '289' '965' '184' '480' '608' '333' '972' '212' '117' '788' '924' '959'\n",
      " '621' '238' '785' '714' '942' '250.23' '710' '47' '933' '508' '478' '844'\n",
      " '7' '736' '233' '42' '250.5' '397' '395' '201' '421' '253' '250.92' '600'\n",
      " '494' '977' '39' '659' '312' '614' '647' '652' '646' '274' '861' '425'\n",
      " '527' '451' '485' '217' '250.53' '442' '970' '193' '160' '322' '581'\n",
      " '475' '623' '374' '582' '568' '465' '801' '237' '376' '150' '461' '913'\n",
      " '226' '617' '987' '641' '298' '790' '336' '362' '228' '513' '383' '746'\n",
      " '353' '911' '506' '873' '155' '860' '534' '802' '141' 'V45' '396' '310'\n",
      " '341' '242' '719' '239' '533' '616' '519' '301' 'V66' '5' '989' '230'\n",
      " '385' '300' '853' '871' '570' '848' '463' '9' '934' '250.21' '236' '361'\n",
      " '594' '501' '810' '643' '430' '528' '205' '791' '983' '992' '490' '172'\n",
      " '171' '622' '306' '863' '864' '474' '660' '759' '356' '634' '967' '551'\n",
      " '695' '187' '732' '747' '323' '308' '370' '252' '152' '846' '164' '365'\n",
      " '718' '48' '266' '720' '94' '344' '797' '170' '878' '904' 'V56' '882'\n",
      " '843' '709' '973' '454' '686' '939' '487' '229' '991' '483' '357' '692'\n",
      " '796' '693' '935' '936' '800' '920' 'V26' '261' '307' '262' '250.9' '831'\n",
      " '145' '223' 'V71' '839' '685' 'V54' '35' '34' '179' '964' '136' '324'\n",
      " '389' '815' '334' '143' '526' '588' '192' 'V67' '394' '917' '88' '219'\n",
      " '325' '792' '717' '994' '990' '793' '207' '637' '195' '373' '847' '827'\n",
      " '31' '891' '814' 'V60' '703' '865' '352' '627' '378' '342' '886' '369'\n",
      " '745' '705' '816' '541' '986' '610' '633' '640' '753' '173' '835' '379'\n",
      " '445' '272' '382' '945' '619' '881' '250.52' '866' '405' '916' '215'\n",
      " '893' '75' '671' '928' '906' '897' '725' '867' '115' '890' '734' '521'\n",
      " '674' '470' '834' '146' '696' '524' '980' '691' '384' '142' '879'\n",
      " '250.51' '246' '208' '448' '955' '653' '149' '245' '735' '883' '854'\n",
      " '952' '838' '194' 'V43' '163' '216' '147' '354' '27' '477' '318' '880'\n",
      " '921' '377' '471' '683' '175' '602' '250.91' '982' '706' '375' '417'\n",
      " '131' '347' '870' '148' '862' '61' '817' '914' '360' '684' '314' 'V63'\n",
      " '36' '57' '240' '915' '971' '795' '988' '452' '963' '327' '731' '842'\n",
      " 'V25' '645' '665' '110' '944' '603' '923' '412' '363' '957' '976' '698'\n",
      " '299' '700' '273' '974' '97' '529' '66' '98' '605' '941' '52' '806' '84'\n",
      " '271' '837' '657' '895' '338' '523' '542' '114' '543' '372' 'V70' 'E909'\n",
      " '583' 'V07' '422' '615' '279' '500' '903' '919' '875' '381' '804' '704'\n",
      " '23' '58' '649' '832' '133' '975' '833' '391' '690' '10' 'V51']\n",
      "diag_2 ['?' '250.01' '250' '250.43' '157' '411' '492' '427' '198' '403' '288'\n",
      " '998' '507' '174' '425' '456' '401' '715' '496' '428' '585' '250.02'\n",
      " '410' '999' '996' '135' '244' '41' '571' '276' '997' '599' '424' '491'\n",
      " '553' '707' '286' '440' '493' '242' '70' 'V45' '250.03' '357' '511' '196'\n",
      " '396' '197' '414' '250.52' '577' '535' '413' '285' '53' '780' '518' '150'\n",
      " '566' '250.6' '867' '486' 'V15' '8' '788' '340' '574' '581' '228' '530'\n",
      " '250.82' '786' '294' '567' '785' '512' '305' '729' '250.51' '280' '648'\n",
      " '560' '618' '444' '38' 'V10' '578' '277' '781' '250.42' '278' '426' '584'\n",
      " '462' '402' '153' '272' '733' '34' '881' '203' '250.41' '250.13' '293'\n",
      " '245' '250.12' '558' '787' '342' '573' '626' '303' '250.53' '458' '710'\n",
      " '415' 'V42' '284' '569' '759' '682' '112' '292' '435' '290' '250.93'\n",
      " '642' '536' '398' '319' '711' 'E878' '446' '255' 'V44' '250.7' '784'\n",
      " '300' '562' '162' '287' '447' '789' '790' '591' '200' '154' '304' '117'\n",
      " '847' '852' '250.83' '250.11' '816' '575' '416' '412' '441' '515' '372'\n",
      " '482' '382' 'V65' '572' '283' '78' '250.81' '576' '432' '595' '295' 'V12'\n",
      " '204' '466' '721' '434' '590' '271' '813' '368' '227' '783' '250.5' '258'\n",
      " '253' '309' '250.91' '519' '333' '459' '250.92' '250.4' '179' '420' '345'\n",
      " '433' '661' '537' '205' '722' '405' '437' '714' '211' 'E812' '263' '202'\n",
      " '397' '250.23' 'E932' '201' '301' '723' '614' '568' '861' 'V57' '724'\n",
      " '189' '297' '453' 'E888' '730' '354' '451' '738' 'E939' '805' 'V43' '155'\n",
      " '910' '218' '358' '220' 'E937' '583' '958' '794' '564' '436' '250.22'\n",
      " '620' '621' '331' '617' '596' '314' '378' '250.8' '625' '478' '731' '172'\n",
      " '404' '681' '470' '279' '281' '531' '443' '799' '337' '311' '719' 'E944'\n",
      " '423' 'E870' '465' 'E849' '782' '481' '480' 'V23' '199' '79' '438' '348'\n",
      " '42' 'E950' '473' '627' '726' '54' '490' '317' '332' '508' '369' '600'\n",
      " '349' '485' '208' '922' '431' '296' 'E934' '753' 'E935' '386' '728' '607'\n",
      " 'E915' '344' '716' '289' '191' '873' '850' '611' '377' '352' '616' 'V17'\n",
      " '136' '455' '933' 'E885' '860' '513' '603' '484' '223' 'V72' '291' '151'\n",
      " 'V58' '550' '510' '891' '185' '592' '791' '138' '598' '336' '362' '217'\n",
      " '825' '298' '821' 'E880' '343' '429' 'E879' '579' '225' '250.9' 'V49'\n",
      " '696' '233' '658' '969' '275' '250.1' '601' '704' '808' 'E890' 'V18'\n",
      " '920' '380' '570' 'E817' '359' '812' '274' 'V14' '324' '758' 'V66' '911'\n",
      " 'E931' 'E924' '593' '792' '727' 'V46' '394' '532' 'V64' '557' '864' '718'\n",
      " 'E942' '807' '604' '924' '820' '580' '273' '241' '282' '824' 'V61' '646'\n",
      " '701' '736' '565' '383' '250.2' 'E947' '452' '872' '905' 'E930' '921'\n",
      " '131' '448' '389' '421' '214' '705' '494' '752' '623' '9' '299' '959'\n",
      " '365' '967' 'E858' '40' '691' '909' '5' '814' '746' '250.31' '556' '680'\n",
      " '745' '351' '306' '110' '695' '552' '346' '918' '882' '947' '520' '188'\n",
      " '31' '356' '737' 'V08' '322' '182' '517' '974' 'E929' 'V53' '912' '252'\n",
      " '608' '516' 'E933' '94' '702' '923' '594' '647' '111' '934' '430' '487'\n",
      " '709' '796' '156' '977' '915' '756' '840' '341' '259' '693' '725' 'V62'\n",
      " '528' '683' '953' '457' '501' 'E900' 'V09' '522' '919' '461' '506' '193'\n",
      " '483' 'E936' '717' '802' '335' 'V54' '320' '945' '906' '239' '454' '826'\n",
      " '823' 'E941' '226' '795' '684' '844' '250.33' '308' '615' '588' '712'\n",
      " '663' '706' '833' '741' '713' '533' 'E884' '586' '555' '755' 'E928' '742'\n",
      " '869' '962' 'V11' '543' '373' '870' '913' '152' '810' '965' '907' '908'\n",
      " '995' '845' '474' '442' '751' '323' '472' '464' '686' '250.32' '540'\n",
      " '251' '811' '652' '659' '851' '422' '815' '307' '325' '463' '992' '692'\n",
      " '521' '917' 'E965' '524' '916' 'E813' '173' '238' '137' '514' '312' '837'\n",
      " '355' '980' '622' '475' '500' '754' '261' '801' '868' '968' '381' '11'\n",
      " '250.21' '694' '610' '734' 'E814' '310' '130' '246' '892' '846' '634'\n",
      " '75' 'E927' 'E905' '183' '379' 'E917' '163' 'E868' '495' '747' '989'\n",
      " 'E854' '240' '832' '605' '602' '644' 'V16' '35' 'V70' '376' '266' 'E918'\n",
      " '619' '477' '656' '46' '883' '171' 'V13' '698' '842' 'E850' '800' '269'\n",
      " '664' 'E887' '952' '164' 'E881' '527' '685' '366' '836' '27' 'V63' '865'\n",
      " '793' '232' '990' '52' '831' '327' '542' '806' '972' '862' 'E829' 'E919'\n",
      " '944' 'E916' '963' '316' '645' '347' 'V85' '374' 'V02' '748' '256' '186'\n",
      " '866' '975' '96' '395' '262' 'E819' '654' '994' '318' 'E826' '879' '674'\n",
      " '641' '822' '145' '797' '353' 'E938' 'E816' '948' '987' '99' '192'\n",
      " '250.3' 'E906' '534' '115' 'E818' 'E980' '360' '338' '529' '871' '750'\n",
      " '212' '302' '955' '141' '88' 'V25' '215' '350' 'V50' 'V03' 'E853' 'E968'\n",
      " 'E882' '140' '703' '991' '893' 'E821' '235' 'V69' '670' '195' 'V55' '388'\n",
      " '268' '894' '114' '260' '853' '7' '880' 'V86' '180' 'E945' '523' '863'\n",
      " '649' '270' '665' '460' '942' '364' '66' 'E883' '123' '884' 'V60' '843'\n",
      " '927']\n",
      "diag_3 ['?' '255' 'V27' '403' '250' 'V45' '38' '486' '996' '197' '250.6' '427'\n",
      " '627' '414' '416' '714' '428' '582' 'V43' '250.01' '263' '250.42' '276'\n",
      " '482' '401' '250.41' '585' '781' '278' '998' '568' '682' '618' '250.02'\n",
      " '305' '707' '496' '599' '715' '424' '518' '553' '794' '411' 'V42' '531'\n",
      " '511' '490' '562' '250.8' '250.7' '250.52' '784' '491' '581' '420' '8'\n",
      " '724' '730' '789' '131' '250.82' '999' '41' '493' '250.03' '753' '786'\n",
      " '529' 'E888' '425' '595' '303' '560' '711' '492' '332' '296' '438' '362'\n",
      " '250.4' '654' '244' 'V70' '737' '625' '681' '250.51' '404' 'V10' '810'\n",
      " '280' '440' '785' '588' '569' '272' '997' '250.43' '918' '584' '54' '788'\n",
      " '426' '722' '250.92' '196' '461' '535' '787' '891' '284' '458' '648'\n",
      " '780' '182' '285' '593' '413' '664' '564' '201' '356' 'V15' '292' '782'\n",
      " '473' '455' 'E932' '357' '348' '294' '250.23' '459' 'E878' '437' '733'\n",
      " '507' '525' '250.53' '397' '572' '805' '453' '331' '736' '402' '591'\n",
      " '576' '465' '533' '703' '349' '315' '658' '608' '578' '716' '382' '300'\n",
      " '282' '571' '536' '596' '287' '644' 'V11' '558' 'E885' '162' '198' '218'\n",
      " '412' '396' 'V14' '570' '433' 'E934' '882' '288' '577' '443' '729' '836'\n",
      " '295' '799' '281' '304' '153' '410' '616' '250.83' '601' '291' '75' '512'\n",
      " '660' '250.5' '598' '337' '574' '653' 'V58' '311' '415' '386' '602' '790'\n",
      " '112' '873' '620' '436' '70' '155' '138' '663' '530' '710' '42' '342'\n",
      " '250.91' 'E884' '515' '307' '704' '728' '731' '583' '238' '441' '293'\n",
      " '573' '532' '290' '594' '319' '250.13' '250.12' '519' '346' '380' '135'\n",
      " '642' '698' '924' '905' 'E933' '555' '309' 'E879' '286' '565' '752' '580'\n",
      " '446' '444' '344' '252' '35' '813' '394' '301' '575' '258' 'V17' '802'\n",
      " '435' '746' 'V12' '709' '881' 'E935' '139' '250.81' '718' '365' '202'\n",
      " '334' '185' '398' 'V44' '517' 'E849' '614' '466' '626' '250.9' '368'\n",
      " '605' '883' '289' '478' '617' '429' '442' 'V25' '866' '610' '557' '959'\n",
      " 'E942' '94' '920' '345' '313' '379' '79' '516' '586' '821' '600' '242'\n",
      " '373' '592' 'V64' '487' '253' '706' 'E947' '117' '340' 'E950' '656'\n",
      " 'E949' '590' 'V09' '250.22' '934' '694' '203' '250.93' '995' '726' '923'\n",
      " '958' '275' 'E929' '211' 'V18' 'V66' '199' '665' '53' '279' '522' '791'\n",
      " '890' '456' 'E938' 'E816' '122' '721' 'V65' '136' '480' '423' 'E920'\n",
      " '793' '647' '537' '351' '845' '336' '274' '719' '945' '434' '494' '227'\n",
      " '157' '208' '174' 'V57' '812' '734' '150' 'V23' '447' '692' '228' 'V16'\n",
      " '756' '405' 'E928' '823' '552' '528' '389' '240' '454' '792' '366' 'E939'\n",
      " '907' '270' '310' '266' '387' 'E931' '783' '245' '607' '355' 'E930' '705'\n",
      " '372' '369' '611' '283' 'V46' '110' '867' 'E956' '251' '250.2' '820'\n",
      " '712' '695' '567' '343' '723' 'V08' '273' '623' '807' '451' '495' '701'\n",
      " '34' 'V53' '314' '472' 'E945' '11' '189' '534' '354' '333' 'V54' '277'\n",
      " '659' '708' '452' '655' '816' '670' '621' '246' '953' '865' 'E817' '646'\n",
      " '151' '378' '78' '298' '840' '641' '521' '745' '619' '912' '506' 'E904'\n",
      " '259' 'E870' 'E980' '383' '204' '696' '566' '727' '47' 'E943' '358' '191'\n",
      " '965' '921' '432' '27' 'E861' '758' '477' '524' '751' '652' '556' '188'\n",
      " '825' '919' '732' '908' '951' '962' '685' 'E850' 'E944' '527' '341' '693'\n",
      " '250.1' 'V49' '860' '323' 'V55' '579' '508' '969' '205' '462' 'E880'\n",
      " '680' '697' '826' '200' '457' '717' '738' '742' '735' '235' '308' '725'\n",
      " '241' '824' '464' '260' '917' '239' '661' '892' '261' 'E883' '943' '744'\n",
      " 'E936' '796' '318' '967' '350' '854' 'E905' '9' '741' 'E941' '170' '643'\n",
      " '317' '759' '909' 'V22' '831' '713' '180' '801' '360' '359' '501' '335'\n",
      " '250.11' '306' '811' '690' 'V02' '271' '214' '847' '543' 'V63' '906'\n",
      " '842' '686' '445' '808' '861' 'E852' '220' 'E887' 'E858' '915' '970'\n",
      " '256' '747' '395' '243' '815' '481' '5' 'E927' '297' '299' '851' '864'\n",
      " '922' '384' 'E876' '225' '158' 'E937' '871' '88' '966' 'E917' 'E812'\n",
      " 'V62' 'E924' '604' '233' 'E916' '377' '797' 'V72' '172' '7' '421' '852'\n",
      " 'E819' '972' '916' '956' '3' 'E965' '173' '193' '154' '347' '862' '250.3'\n",
      " '987' '470' '262' 'E855' '161' '115' '179' '910' '312' '17' '460' '265'\n",
      " '66' '163' 'V60' '870' 'E906' '514' '944' '844' '417' '152' '183' '991'\n",
      " '216' '385' '164' '935' '510' '814' '485' '850' '250.21' 'E919' '872'\n",
      " '195' '431' '597' '933' '171' '884' '156' '868' '483' 'E815' '542' 'V61'\n",
      " '853' '374' 'E881' 'E882' 'E822' '192' '754' '327' '523' '500' 'V85'\n",
      " '992' '657' '684' '603' 'E826' '550' '913' '376' '755' '361' '186' '720'\n",
      " '250.31' '674' '911' 'E813' '226' '365.44' 'E818' '146' '955' 'E894'\n",
      " '475' 'V13' '880' '930' 'E915' '381' '132' '353' '795' '893' 'V01' 'E853'\n",
      " '863' '540' 'E828' '430' '800' 'E865' '148' 'E946' '822' '879' '848'\n",
      " 'V86' 'V03' '338' '989' '388' 'E966' '111' 'E922' '123' '757' 'E901'\n",
      " '141' '268' 'E892' '649' '702' '948' '223' '484' 'E886' '838' '928' '236'\n",
      " '624' '837' 'E987' 'V07' '841' '622' 'E912' 'E955' '463' 'V06' 'E864'\n",
      " '217' '877' '391' 'E825' '952' '669' '875' 'E900' '215' '538' '980' '834'\n",
      " '448' '175' '49' '876' '230' '57' 'E854' '942' '14' '750' '370' '671'\n",
      " '971']\n",
      "number_diagnoses [ 1  9  6  7  5  8  3  4  2 16 12 13 15 10 11 14]\n",
      "max_glu_serum ['None' '>300' 'Norm' '>200']\n",
      "A1Cresult ['None' '>7' '>8' 'Norm']\n",
      "metformin ['No' 'Steady' 'Up' 'Down']\n",
      "repaglinide ['No' 'Up' 'Steady' 'Down']\n",
      "nateglinide ['No' 'Steady' 'Down' 'Up']\n",
      "chlorpropamide ['No' 'Steady' 'Down' 'Up']\n",
      "glimepiride ['No' 'Steady' 'Down' 'Up']\n",
      "acetohexamide ['No' 'Steady']\n",
      "glipizide ['No' 'Steady' 'Up' 'Down']\n",
      "glyburide ['No' 'Steady' 'Up' 'Down']\n",
      "tolbutamide ['No' 'Steady']\n",
      "pioglitazone ['No' 'Steady' 'Up' 'Down']\n",
      "rosiglitazone ['No' 'Steady' 'Up' 'Down']\n",
      "acarbose ['No' 'Steady' 'Up' 'Down']\n",
      "miglitol ['No' 'Steady' 'Down' 'Up']\n",
      "troglitazone ['No' 'Steady']\n",
      "tolazamide ['No' 'Steady' 'Up']\n",
      "examide ['No']\n",
      "citoglipton ['No']\n",
      "insulin ['No' 'Up' 'Steady' 'Down']\n",
      "glyburide-metformin ['No' 'Steady' 'Down' 'Up']\n",
      "glipizide-metformin ['No' 'Steady']\n",
      "glimepiride-pioglitazone ['No' 'Steady']\n",
      "metformin-rosiglitazone ['No' 'Steady']\n",
      "metformin-pioglitazone ['No' 'Steady']\n",
      "change ['No' 'Ch']\n",
      "diabetesMed ['No' 'Yes']\n",
      "readmitted ['NO' '>30' '<30']\n"
     ]
    }
   ],
   "source": [
    "for col in df:\n",
    "    print(col, df[col].unique())"
   ]
  },
  {
   "cell_type": "code",
   "execution_count": 7,
   "id": "3bf4e818",
   "metadata": {},
   "outputs": [],
   "source": [
    "import matplotlib.pyplot as plt"
   ]
  },
  {
   "cell_type": "code",
   "execution_count": 9,
   "id": "2b7eb5bb",
   "metadata": {},
   "outputs": [
    {
     "name": "stderr",
     "output_type": "stream",
     "text": [
      "<ipython-input-9-8ae6ed409aa1>:3: RuntimeWarning: More than 20 figures have been opened. Figures created through the pyplot interface (`matplotlib.pyplot.figure`) are retained until explicitly closed and may consume too much memory. (To control this warning, see the rcParam `figure.max_open_warning`).\n",
      "  fig = plt.figure()\n"
     ]
    },
    {
     "data": {
      "image/png": "[encoded data removed]",
      "text/plain": [
       "<Figure size 432x288 with 1 Axes>"
      ]
     },
     "metadata": {
      "needs_background": "light"
     },
     "output_type": "display_data"
    },
    {
     "data": {
      "image/png": "[encoded data removed]",
      "text/plain": [
       "<Figure size 432x288 with 1 Axes>"
      ]
     },
     "metadata": {
      "needs_background": "light"
     },
     "output_type": "display_data"
    },
    {
     "data": {
      "image/png": "[encoded data removed]",
      "text/plain": [
       "<Figure size 432x288 with 1 Axes>"
      ]
     },
     "metadata": {
      "needs_background": "light"
     },
     "output_type": "display_data"
    },
    {
     "data": {
      "image/png": "[encoded data removed]",
      "text/plain": [
       "<Figure size 432x288 with 1 Axes>"
      ]
     },
     "metadata": {
      "needs_background": "light"
     },
     "output_type": "display_data"
    },
    {
     "data": {
      "image/png": "[encoded data removed]",
      "text/plain": [
       "<Figure size 432x288 with 1 Axes>"
      ]
     },
     "metadata": {
      "needs_background": "light"
     },
     "output_type": "display_data"
    },
    {
     "data": {
      "image/png": "[encoded data removed]",
      "text/plain": [
       "<Figure size 432x288 with 1 Axes>"
      ]
     },
     "metadata": {
      "needs_background": "light"
     },
     "output_type": "display_data"
    },
    {
     "data": {
      "image/png": "[encoded data removed]",
      "text/plain": [
       "<Figure size 432x288 with 1 Axes>"
      ]
     },
     "metadata": {
      "needs_background": "light"
     },
     "output_type": "display_data"
    },
    {
     "data": {
      "image/png": "[encoded data removed]",
      "text/plain": [
       "<Figure size 432x288 with 1 Axes>"
      ]
     },
     "metadata": {
      "needs_background": "light"
     },
     "output_type": "display_data"
    },
    {
     "data": {
      "image/png": "[encoded data removed]",
      "text/plain": [
       "<Figure size 432x288 with 1 Axes>"
      ]
     },
     "metadata": {
      "needs_background": "light"
     },
     "output_type": "display_data"
    },
    {
     "data": {
      "image/png": "[encoded data removed]",
      "text/plain": [
       "<Figure size 432x288 with 1 Axes>"
      ]
     },
     "metadata": {
      "needs_background": "light"
     },
     "output_type": "display_data"
    },
    {
     "data": {
      "image/png": "[encoded data removed]",
      "text/plain": [
       "<Figure size 432x288 with 1 Axes>"
      ]
     },
     "metadata": {
      "needs_background": "light"
     },
     "output_type": "display_data"
    },
    {
     "data": {
      "image/png": "[encoded data removed]",
      "text/plain": [
       "<Figure size 432x288 with 1 Axes>"
      ]
     },
     "metadata": {
      "needs_background": "light"
     },
     "output_type": "display_data"
    },
    {
     "data": {
      "image/png": "[encoded data removed]",
      "text/plain": [
       "<Figure size 432x288 with 1 Axes>"
      ]
     },
     "metadata": {
      "needs_background": "light"
     },
     "output_type": "display_data"
    },
    {
     "data": {
      "image/png": "[encoded data removed]",
      "text/plain": [
       "<Figure size 432x288 with 1 Axes>"
      ]
     },
     "metadata": {
      "needs_background": "light"
     },
     "output_type": "display_data"
    },
    {
     "data": {
      "image/png": "[encoded data removed]",
      "text/plain": [
       "<Figure size 432x288 with 1 Axes>"
      ]
     },
     "metadata": {
      "needs_background": "light"
     },
     "output_type": "display_data"
    },
    {
     "data": {
      "image/png": "[encoded data removed]",
      "text/plain": [
       "<Figure size 432x288 with 1 Axes>"
      ]
     },
     "metadata": {
      "needs_background": "light"
     },
     "output_type": "display_data"
    },
    {
     "data": {
      "image/png": "[encoded data removed]",
      "text/plain": [
       "<Figure size 432x288 with 1 Axes>"
      ]
     },
     "metadata": {
      "needs_background": "light"
     },
     "output_type": "display_data"
    },
    {
     "data": {
      "image/png": "[encoded data removed]",
      "text/plain": [
       "<Figure size 432x288 with 1 Axes>"
      ]
     },
     "metadata": {
      "needs_background": "light"
     },
     "output_type": "display_data"
    },
    {
     "data": {
      "image/png": "[encoded data removed]",
      "text/plain": [
       "<Figure size 432x288 with 1 Axes>"
      ]
     },
     "metadata": {
      "needs_background": "light"
     },
     "output_type": "display_data"
    },
    {
     "data": {
      "image/png": "[encoded data removed]",
      "text/plain": [
       "<Figure size 432x288 with 1 Axes>"
      ]
     },
     "metadata": {
      "needs_background": "light"
     },
     "output_type": "display_data"
    },
    {
     "data": {
      "image/png": "[encoded data removed]",
      "text/plain": [
       "<Figure size 432x288 with 1 Axes>"
      ]
     },
     "metadata": {
      "needs_background": "light"
     },
     "output_type": "display_data"
    },
    {
     "data": {
      "image/png": "[encoded data removed]",
      "text/plain": [
       "<Figure size 432x288 with 1 Axes>"
      ]
     },
     "metadata": {
      "needs_background": "light"
     },
     "output_type": "display_data"
    },
    {
     "data": {
      "image/png": "[encoded data removed]",
      "text/plain": [
       "<Figure size 432x288 with 1 Axes>"
      ]
     },
     "metadata": {
      "needs_background": "light"
     },
     "output_type": "display_data"
    },
    {
     "data": {
      "image/png": "[encoded data removed]",
      "text/plain": [
       "<Figure size 432x288 with 1 Axes>"
      ]
     },
     "metadata": {
      "needs_background": "light"
     },
     "output_type": "display_data"
    },
    {
     "data": {
      "image/png": "[encoded data removed]",
      "text/plain": [
       "<Figure size 432x288 with 1 Axes>"
      ]
     },
     "metadata": {
      "needs_background": "light"
     },
     "output_type": "display_data"
    },
    {
     "data": {
      "image/png": "[encoded data removed]",
      "text/plain": [
       "<Figure size 432x288 with 1 Axes>"
      ]
     },
     "metadata": {
      "needs_background": "light"
     },
     "output_type": "display_data"
    },
    {
     "data": {
      "image/png": "[encoded data removed]",
      "text/plain": [
       "<Figure size 432x288 with 1 Axes>"
      ]
     },
     "metadata": {
      "needs_background": "light"
     },
     "output_type": "display_data"
    },
    {
     "data": {
      "image/png": "[encoded data removed]",
      "text/plain": [
       "<Figure size 432x288 with 1 Axes>"
      ]
     },
     "metadata": {
      "needs_background": "light"
     },
     "output_type": "display_data"
    },
    {
     "data": {
      "image/png": "[encoded data removed]",
      "text/plain": [
       "<Figure size 432x288 with 1 Axes>"
      ]
     },
     "metadata": {
      "needs_background": "light"
     },
     "output_type": "display_data"
    },
    {
     "data": {
      "image/png": "[encoded data removed]",
      "text/plain": [
       "<Figure size 432x288 with 1 Axes>"
      ]
     },
     "metadata": {
      "needs_background": "light"
     },
     "output_type": "display_data"
    },
    {
     "data": {
      "image/png": "[encoded data removed]",
      "text/plain": [
       "<Figure size 432x288 with 1 Axes>"
      ]
     },
     "metadata": {
      "needs_background": "light"
     },
     "output_type": "display_data"
    },
    {
     "data": {
      "image/png": "[encoded data removed]",
      "text/plain": [
       "<Figure size 432x288 with 1 Axes>"
      ]
     },
     "metadata": {
      "needs_background": "light"
     },
     "output_type": "display_data"
    },
    {
     "data": {
      "image/png": "[encoded data removed]",
      "text/plain": [
       "<Figure size 432x288 with 1 Axes>"
      ]
     },
     "metadata": {
      "needs_background": "light"
     },
     "output_type": "display_data"
    },
    {
     "data": {
      "image/png": "[encoded data removed]",
      "text/plain": [
       "<Figure size 432x288 with 1 Axes>"
      ]
     },
     "metadata": {
      "needs_background": "light"
     },
     "output_type": "display_data"
    },
    {
     "data": {
      "image/png": "[encoded data removed]",
      "text/plain": [
       "<Figure size 432x288 with 1 Axes>"
      ]
     },
     "metadata": {
      "needs_background": "light"
     },
     "output_type": "display_data"
    },
    {
     "data": {
      "image/png": "[encoded data removed]",
      "text/plain": [
       "<Figure size 432x288 with 1 Axes>"
      ]
     },
     "metadata": {
      "needs_background": "light"
     },
     "output_type": "display_data"
    },
    {
     "data": {
      "image/png": "[encoded data removed]",
      "text/plain": [
       "<Figure size 432x288 with 1 Axes>"
      ]
     },
     "metadata": {
      "needs_background": "light"
     },
     "output_type": "display_data"
    }
   ],
   "source": [
    "# visualising string columns\n",
    "for x in df.columns[df.dtypes == object]:\n",
    "   fig = plt.figure()\n",
    "   df[x].value_counts(normalize=True).plot(kind='bar')\n",
    "   fig.suptitle(x)\n",
    "\n",
    "# notes: going to treat missing values (?) as its own category, i.e. will not impute missing values\n",
    "# will throw out the following columns:\n",
    "# weight (mostly ?)\n",
    "# payer_code, medical_specialty, diag_1, diag_2, diag_3 (not practical to use)\n",
    "# examide, citoglipton (only 1 value)"
   ]
  },
  {
   "cell_type": "code",
   "execution_count": 10,
   "id": "d647311c",
   "metadata": {},
   "outputs": [],
   "source": [
    "df = df.drop(columns = ['weight', 'diag_1', 'diag_2', 'diag_3', 'payer_code', 'medical_specialty', 'examide', 'citoglipton'])"
   ]
  },
  {
   "cell_type": "code",
   "execution_count": 19,
   "id": "4575663b",
   "metadata": {},
   "outputs": [
    {
     "data": {
      "text/plain": [
       "<AxesSubplot:>"
      ]
     },
     "execution_count": 19,
     "metadata": {},
     "output_type": "execute_result"
    },
    {
     "data": {
      "image/png": "[encoded data removed]",
      "text/plain": [
       "<Figure size 432x288 with 1 Axes>"
      ]
     },
     "metadata": {
      "needs_background": "light"
     },
     "output_type": "display_data"
    }
   ],
   "source": [
    "df['readmitted'].hist()\n",
    "# not that unbalanced"
   ]
  },
  {
   "cell_type": "code",
   "execution_count": 11,
   "id": "0ad6fea1",
   "metadata": {},
   "outputs": [],
   "source": [
    "# transforming categorical variables to numerical\n",
    "replace_map = {'readmitted': {'Yes': 1, 'NO': 0, 'Ch': 1, 'Steady': 1, '<30': 1, '>30': 2},\n",
    "              'diabetesMed': {'Yes': 1, 'No': 0, 'Ch': 1, 'Steady': 1, '<30': 1, '>30': 2},\n",
    "              'change': {'Yes': 1, 'No': 0, 'Ch': 1, 'Steady': 1, '<30': 1, '>30': 2},\n",
    "              'metformin-pioglitazone': {'Yes': 1, 'No': 0, 'Ch': 1, 'Steady': 1, '<30': 1, '>30': 2},\n",
    "              'metformin-rosiglitazone': {'Yes': 1, 'No': 0, 'Ch': 1, 'Steady': 1, '<30': 1, '>30': 2},\n",
    "              'glimepiride-pioglitazone': {'Yes': 1, 'No': 0, 'Ch': 1, 'Steady': 1, '<30': 1, '>30': 2},\n",
    "              'glipizide-metformin': {'Yes': 1, 'No': 0, 'Ch': 1, 'Steady': 1, '<30': 1, '>30': 2},\n",
    "              'troglitazone': {'Yes': 1, 'No': 0, 'Ch': 1, 'Steady': 1, '<30': 1, '>30': 2},\n",
    "              'tolbutamide': {'Yes': 1, 'No': 0, 'Ch': 1, 'Steady': 1, '<30': 1, '>30': 2},\n",
    "              'acetohexamide': {'Yes': 1, 'No': 0, 'Ch': 1, 'Steady': 1, '<30': 1, '>30': 2}\n",
    "              }"
   ]
  },
  {
   "cell_type": "code",
   "execution_count": 12,
   "id": "cfaa5414",
   "metadata": {},
   "outputs": [],
   "source": [
    "df_replace=df.copy()\n",
    "df_replace.replace(replace_map, inplace=True)"
   ]
  },
  {
   "cell_type": "code",
   "execution_count": 13,
   "id": "edfd051b",
   "metadata": {},
   "outputs": [
    {
     "name": "stdout",
     "output_type": "stream",
     "text": [
      "                         race  gender      age  admission_type_id  \\\n",
      "encounter_id                                                        \n",
      "2278392             Caucasian  Female   [0-10)                  6   \n",
      "149190              Caucasian  Female  [10-20)                  1   \n",
      "64410         AfricanAmerican  Female  [20-30)                  1   \n",
      "500364              Caucasian    Male  [30-40)                  1   \n",
      "16680               Caucasian    Male  [40-50)                  1   \n",
      "\n",
      "              discharge_disposition_id  admission_source_id  time_in_hospital  \\\n",
      "encounter_id                                                                    \n",
      "2278392                             25                    1                 1   \n",
      "149190                               1                    7                 3   \n",
      "64410                                1                    7                 2   \n",
      "500364                               1                    7                 2   \n",
      "16680                                1                    7                 1   \n",
      "\n",
      "              num_lab_procedures  num_procedures  num_medications  ...  \\\n",
      "encounter_id                                                       ...   \n",
      "2278392                       41               0                1  ...   \n",
      "149190                        59               0               18  ...   \n",
      "64410                         11               5               13  ...   \n",
      "500364                        44               1               16  ...   \n",
      "16680                         51               0                8  ...   \n",
      "\n",
      "              tolazamide  insulin  glyburide-metformin  glipizide-metformin  \\\n",
      "encounter_id                                                                  \n",
      "2278392               No       No                   No                    0   \n",
      "149190                No       Up                   No                    0   \n",
      "64410                 No       No                   No                    0   \n",
      "500364                No       Up                   No                    0   \n",
      "16680                 No   Steady                   No                    0   \n",
      "\n",
      "             glimepiride-pioglitazone metformin-rosiglitazone  \\\n",
      "encounter_id                                                    \n",
      "2278392                             0                       0   \n",
      "149190                              0                       0   \n",
      "64410                               0                       0   \n",
      "500364                              0                       0   \n",
      "16680                               0                       0   \n",
      "\n",
      "             metformin-pioglitazone change diabetesMed readmitted  \n",
      "encounter_id                                                       \n",
      "2278392                           0      0           0          0  \n",
      "149190                            0      1           1          2  \n",
      "64410                             0      0           1          0  \n",
      "500364                            0      1           1          0  \n",
      "16680                             0      1           1          0  \n",
      "\n",
      "[5 rows x 40 columns]\n"
     ]
    }
   ],
   "source": [
    "print(df_replace.head())"
   ]
  },
  {
   "cell_type": "code",
   "execution_count": 14,
   "id": "9a246ae9",
   "metadata": {},
   "outputs": [],
   "source": [
    "df_onehot = df_replace.copy()\n",
    "df_final = pd.get_dummies(df_onehot, columns=['max_glu_serum','A1Cresult','metformin','repaglinide','nateglinide','chlorpropamide','glimepiride','glipizide','glyburide','pioglitazone','rosiglitazone','acarbose','miglitol','race', 'gender', 'age', 'tolazamide', 'insulin', 'glyburide-metformin'], prefix = ['max_glu_serum','A1Cresult','metformin','repaglinide','nateglinide','chlorpropamide','glimepiride','glipizide','glyburide','pioglitazone','rosiglitazone','acarbose','miglitol','race', 'gender', 'age', 'tolazamide', 'insulin', 'glyburide-metformin'])"
   ]
  },
  {
   "cell_type": "code",
   "execution_count": 57,
   "id": "e80afe87",
   "metadata": {},
   "outputs": [
    {
     "name": "stdout",
     "output_type": "stream",
     "text": [
      "              admission_type_id  discharge_disposition_id  \\\n",
      "encounter_id                                                \n",
      "2278392                       6                        25   \n",
      "149190                        1                         1   \n",
      "64410                         1                         1   \n",
      "500364                        1                         1   \n",
      "16680                         1                         1   \n",
      "\n",
      "              admission_source_id  time_in_hospital  num_lab_procedures  \\\n",
      "encounter_id                                                              \n",
      "2278392                         1                 1                  41   \n",
      "149190                          7                 3                  59   \n",
      "64410                           7                 2                  11   \n",
      "500364                          7                 2                  44   \n",
      "16680                           7                 1                  51   \n",
      "\n",
      "              num_procedures  num_medications  number_outpatient  \\\n",
      "encounter_id                                                       \n",
      "2278392                    0                1                  0   \n",
      "149190                     0               18                  0   \n",
      "64410                      5               13                  2   \n",
      "500364                     1               16                  0   \n",
      "16680                      0                8                  0   \n",
      "\n",
      "              number_emergency  number_inpatient  ...  tolazamide_Steady  \\\n",
      "encounter_id                                      ...                      \n",
      "2278392                      0                 0  ...                  0   \n",
      "149190                       0                 0  ...                  0   \n",
      "64410                        0                 1  ...                  0   \n",
      "500364                       0                 0  ...                  0   \n",
      "16680                        0                 0  ...                  0   \n",
      "\n",
      "              tolazamide_Up  insulin_Down  insulin_No  insulin_Steady  \\\n",
      "encounter_id                                                            \n",
      "2278392                   0             0           1               0   \n",
      "149190                    0             0           0               0   \n",
      "64410                     0             0           1               0   \n",
      "500364                    0             0           0               0   \n",
      "16680                     0             0           0               1   \n",
      "\n",
      "              insulin_Up  glyburide-metformin_Down  glyburide-metformin_No  \\\n",
      "encounter_id                                                                 \n",
      "2278392                0                         0                       1   \n",
      "149190                 1                         0                       1   \n",
      "64410                  0                         0                       1   \n",
      "500364                 1                         0                       1   \n",
      "16680                  0                         0                       1   \n",
      "\n",
      "              glyburide-metformin_Steady  glyburide-metformin_Up  \n",
      "encounter_id                                                      \n",
      "2278392                                0                       0  \n",
      "149190                                 0                       0  \n",
      "64410                                  0                       0  \n",
      "500364                                 0                       0  \n",
      "16680                                  0                       0  \n",
      "\n",
      "[5 rows x 103 columns]\n"
     ]
    }
   ],
   "source": [
    "print(df_final.head())"
   ]
  },
  {
   "cell_type": "code",
   "execution_count": 15,
   "id": "a4fabdc1",
   "metadata": {},
   "outputs": [],
   "source": [
    "for x in df_final.columns[df_final.dtypes == object]:\n",
    "    print(x)\n",
    "# no output means no categorical variables; all transformed to numeric"
   ]
  },
  {
   "cell_type": "code",
   "execution_count": 59,
   "id": "2fa4dd94",
   "metadata": {},
   "outputs": [
    {
     "name": "stdout",
     "output_type": "stream",
     "text": [
      "admission_type_id             0\n",
      "discharge_disposition_id      0\n",
      "admission_source_id           0\n",
      "time_in_hospital              0\n",
      "num_lab_procedures            0\n",
      "                             ..\n",
      "insulin_Up                    0\n",
      "glyburide-metformin_Down      0\n",
      "glyburide-metformin_No        0\n",
      "glyburide-metformin_Steady    0\n",
      "glyburide-metformin_Up        0\n",
      "Length: 103, dtype: int64\n"
     ]
    }
   ],
   "source": [
    "print(df_final.isnull().sum())"
   ]
  },
  {
   "cell_type": "code",
   "execution_count": 60,
   "id": "4cff1091",
   "metadata": {},
   "outputs": [
    {
     "name": "stdout",
     "output_type": "stream",
     "text": [
      "0\n"
     ]
    }
   ],
   "source": [
    "print(df_final.isnull().values.sum())"
   ]
  },
  {
   "cell_type": "markdown",
   "id": "27a5f5e8",
   "metadata": {},
   "source": [
    "# below is performing feature selection using decision tree"
   ]
  },
  {
   "cell_type": "code",
   "execution_count": 19,
   "id": "38666c93",
   "metadata": {},
   "outputs": [],
   "source": [
    "from sklearn.tree import DecisionTreeClassifier\n",
    "from sklearn.ensemble import RandomForestClassifier\n",
    "from sklearn.model_selection import train_test_split\n",
    "from sklearn import tree"
   ]
  },
  {
   "cell_type": "code",
   "execution_count": 62,
   "id": "79ad2366",
   "metadata": {},
   "outputs": [],
   "source": [
    "X_train, X_test, y_train, y_test = train_test_split(df_final.iloc[:, df_final.columns != 'readmitted'], df_final['readmitted'], test_size=0.2)"
   ]
  },
  {
   "cell_type": "code",
   "execution_count": 65,
   "id": "82405da0",
   "metadata": {},
   "outputs": [
    {
     "data": {
      "text/plain": [
       "(81412, 102)"
      ]
     },
     "execution_count": 65,
     "metadata": {},
     "output_type": "execute_result"
    }
   ],
   "source": [
    "X_train.shape"
   ]
  },
  {
   "cell_type": "code",
   "execution_count": 68,
   "id": "a2174b79",
   "metadata": {},
   "outputs": [
    {
     "data": {
      "text/plain": [
       "encounter_id\n",
       "221470950    2\n",
       "147734622    2\n",
       "178537674    0\n",
       "223041030    0\n",
       "275429940    2\n",
       "Name: readmitted, dtype: int64"
      ]
     },
     "execution_count": 68,
     "metadata": {},
     "output_type": "execute_result"
    }
   ],
   "source": [
    "y_train.head()"
   ]
  },
  {
   "cell_type": "code",
   "execution_count": 73,
   "id": "4d2c057c",
   "metadata": {},
   "outputs": [],
   "source": [
    "clf = DecisionTreeClassifier(max_depth = 3)"
   ]
  },
  {
   "cell_type": "code",
   "execution_count": 74,
   "id": "1bdfea82",
   "metadata": {},
   "outputs": [
    {
     "data": {
      "text/plain": [
       "DecisionTreeClassifier(max_depth=3)"
      ]
     },
     "execution_count": 74,
     "metadata": {},
     "output_type": "execute_result"
    }
   ],
   "source": [
    "clf.fit(X_train, y_train)"
   ]
  },
  {
   "cell_type": "code",
   "execution_count": 75,
   "id": "79090a61",
   "metadata": {},
   "outputs": [
    {
     "data": {
      "text/plain": [
       "[Text(167.4, 190.26, 'X[9] <= 0.5\\ngini = 0.575\\nsamples = 81412\\nvalue = [43884, 9076, 28452]'),\n",
       " Text(83.7, 135.9, 'X[10] <= 5.5\\ngini = 0.524\\nsamples = 54112\\nvalue = [33275, 4556, 16281]'),\n",
       " Text(41.85, 81.53999999999999, 'X[2] <= 6.5\\ngini = 0.449\\nsamples = 12872\\nvalue = [9030, 847, 2995]'),\n",
       " Text(20.925, 27.180000000000007, 'gini = 0.412\\nsamples = 6704\\nvalue = [4950, 443, 1311]'),\n",
       " Text(62.775000000000006, 27.180000000000007, 'gini = 0.484\\nsamples = 6168\\nvalue = [4080, 404, 1684]'),\n",
       " Text(125.55000000000001, 81.53999999999999, 'X[8] <= 0.5\\ngini = 0.542\\nsamples = 41240\\nvalue = [24245, 3709, 13286]'),\n",
       " Text(104.625, 27.180000000000007, 'gini = 0.536\\nsamples = 38111\\nvalue = [22833, 3373, 11905]'),\n",
       " Text(146.475, 27.180000000000007, 'gini = 0.59\\nsamples = 3129\\nvalue = [1412, 336, 1381]'),\n",
       " Text(251.10000000000002, 135.9, 'X[9] <= 1.5\\ngini = 0.623\\nsamples = 27300\\nvalue = [10609, 4520, 12171]'),\n",
       " Text(209.25, 81.53999999999999, 'X[1] <= 7.5\\ngini = 0.602\\nsamples = 15644\\nvalue = [7110, 1994, 6540]'),\n",
       " Text(188.32500000000002, 27.180000000000007, 'gini = 0.603\\nsamples = 14166\\nvalue = [6200, 1808, 6158]'),\n",
       " Text(230.175, 27.180000000000007, 'gini = 0.538\\nsamples = 1478\\nvalue = [910, 186, 382]'),\n",
       " Text(292.95, 81.53999999999999, 'X[1] <= 8.5\\ngini = 0.63\\nsamples = 11656\\nvalue = [3499, 2526, 5631]'),\n",
       " Text(272.02500000000003, 27.180000000000007, 'gini = 0.62\\nsamples = 10418\\nvalue = [2852, 2284, 5282]'),\n",
       " Text(313.875, 27.180000000000007, 'gini = 0.609\\nsamples = 1238\\nvalue = [647, 242, 349]')]"
      ]
     },
     "execution_count": 75,
     "metadata": {},
     "output_type": "execute_result"
    },
    {
     "data": {
      "image/png": "[encoded data removed]",
      "text/plain": [
       "<Figure size 432x288 with 1 Axes>"
      ]
     },
     "metadata": {
      "needs_background": "light"
     },
     "output_type": "display_data"
    }
   ],
   "source": [
    "tree.plot_tree(clf)"
   ]
  },
  {
   "cell_type": "code",
   "execution_count": 86,
   "id": "5573ae82",
   "metadata": {},
   "outputs": [
    {
     "data": {
      "text/plain": [
       "encounter_id\n",
       "221470950    8\n",
       "147734622    5\n",
       "178537674    8\n",
       "223041030    9\n",
       "275429940    5\n",
       "Name: number_diagnoses, dtype: int64"
      ]
     },
     "execution_count": 86,
     "metadata": {},
     "output_type": "execute_result"
    }
   ],
   "source": [
    "X_train.iloc[:, 10].head()\n",
    "# features are columns 1,2,8,9,10\n",
    "#['discharge_disposition_id', 'admission_source_id', 'number_emergency', 'number_inpatient', 'number_diagnoses']"
   ]
  },
  {
   "cell_type": "code",
   "execution_count": 16,
   "id": "ea64c440",
   "metadata": {},
   "outputs": [],
   "source": [
    "a2 = df_final[['discharge_disposition_id', 'admission_source_id', 'number_emergency', 'number_inpatient', 'number_diagnoses', 'readmitted']]"
   ]
  },
  {
   "cell_type": "code",
   "execution_count": 17,
   "id": "e37d15d3",
   "metadata": {},
   "outputs": [
    {
     "data": {
      "text/plain": [
       "(101766, 6)"
      ]
     },
     "execution_count": 17,
     "metadata": {},
     "output_type": "execute_result"
    }
   ],
   "source": [
    "a2.shape"
   ]
  },
  {
   "cell_type": "markdown",
   "id": "b33bfda3",
   "metadata": {},
   "source": [
    "Summary statistics and visualization for all the variables (visualization should be meaningful)\n",
    "-- skipped because most columns are categorical so not sure what summary statistics would be meaningful\n",
    "\n",
    "\n",
    "Through analysis of missing values and choosing a proper missing value imputation (make sure you have reason to choose method A over B for the imputation)\n",
    "-- will be treating missing values as its own category; no imputation needed\n",
    "\n",
    "\n",
    "Run at least 3 feature selection methods to find the best features (create data frame A2 to A4)\n",
    "-- A2 is created using decision tree\n",
    "\n",
    "Check the distribution of your variables to see if you need any feature transformation\n",
    "Check the data imbalance in your dataset and choose one method for balancing the data (create data frame A5 and you can use any dataset from A1 to A4 to perform this task)\n",
    "Run all the following classification models with the 5-fold-cross-validation and parameter tuning if needed:\n",
    "Logistic regression (Ridge and Lasso)\n",
    "KNN\n",
    "Random Forest\n",
    "Gradient Boosting Models \n",
    "Run the models on all the datasets from A1 to A5\n",
    "Evaluate the model outputs to find the best model and best data processing method\n",
    "\n",
    "\n",
    "Find all the extreme outliers in the variables and decide on what to do regarding them (ignore, remove, ...)\n",
    "\n",
    "Run PCA analysis to reduce the dimensionality (create a data frame A1)"
   ]
  },
  {
   "cell_type": "markdown",
   "id": "e55f0be4",
   "metadata": {},
   "source": [
    "# running classification models on a2\n",
    "Run all the following classification models with the 5-fold-cross-validation and parameter tuning if needed: \n",
    "\n",
    "- Logistic regression (Ridge and Lasso) \n",
    "- KNN \n",
    "- Random Forest \n",
    "- Gradient Boosting Models "
   ]
  },
  {
   "cell_type": "code",
   "execution_count": 20,
   "id": "fa4ffd44",
   "metadata": {},
   "outputs": [],
   "source": [
    "X_traina2, X_test_a2, y_train_a2, y_test_a2 = train_test_split(a2.iloc[:, a2.columns != 'readmitted'], a2['readmitted'], test_size=0.2)"
   ]
  },
  {
   "cell_type": "code",
   "execution_count": 21,
   "id": "bd3a9315",
   "metadata": {},
   "outputs": [
    {
     "name": "stdout",
     "output_type": "stream",
     "text": [
      "3 - 0.566817333202319\n",
      "4 - 0.573793848874914\n",
      "5 - 0.5760047165176378\n",
      "6 - 0.5762503684779404\n",
      "7 - 0.5771838459270905\n",
      "8 - 0.5786577576889064\n",
      "9 - 0.5790016704333301\n",
      "10 - 0.5790508008253906\n",
      "11 - 0.5773803674953326\n",
      "12 - 0.5761029773017589\n",
      "13 - 0.5748255871081851\n",
      "14 - 0.5726147194654614\n",
      "15 - 0.5715338508401298\n",
      "16 - 0.5706495037830401\n",
      "17 - 0.5716321116242508\n",
      "18 - 0.5698142871180112\n",
      "19 - 0.5698142871180112\n",
      "20 - 0.5698142871180112\n",
      "21 - 0.5699616782941928\n",
      "22 - 0.5701090694703743\n",
      "23 - 0.5687825488847401\n",
      "24 - 0.5706495037830401\n",
      "25 - 0.5704529822147981\n",
      "26 - 0.5709934165274639\n",
      "27 - 0.5697651567259506\n",
      "28 - 0.5699616782941928\n",
      "29 - 0.5694212439815269\n"
     ]
    }
   ],
   "source": [
    "for i in range(3,30,1):\n",
    "    clf = RandomForestClassifier(max_depth=i)\n",
    "    clf = clf.fit(X_traina2, y_train_a2)\n",
    "    print(i,\"-\", clf.score(X_test_a2, y_test_a2))"
   ]
  },
  {
   "cell_type": "markdown",
   "id": "0ec21b8c",
   "metadata": {},
   "source": [
    "# look for interesting relationships\n",
    "using chi squared test"
   ]
  },
  {
   "cell_type": "code",
   "execution_count": 23,
   "id": "45f775fa",
   "metadata": {},
   "outputs": [],
   "source": [
    "from scipy.stats import chi2_contingency"
   ]
  },
  {
   "cell_type": "code",
   "execution_count": 26,
   "id": "a1197a57",
   "metadata": {},
   "outputs": [],
   "source": [
    "independent_columns = df_final.iloc[:, df_final.columns != 'readmitted'].columns"
   ]
  },
  {
   "cell_type": "code",
   "execution_count": 27,
   "id": "f9388416",
   "metadata": {},
   "outputs": [
    {
     "name": "stdout",
     "output_type": "stream",
     "text": [
      "Index(['admission_type_id', 'discharge_disposition_id', 'admission_source_id',\n",
      "       'time_in_hospital', 'num_lab_procedures', 'num_procedures',\n",
      "       'num_medications', 'number_outpatient', 'number_emergency',\n",
      "       'number_inpatient',\n",
      "       ...\n",
      "       'tolazamide_Steady', 'tolazamide_Up', 'insulin_Down', 'insulin_No',\n",
      "       'insulin_Steady', 'insulin_Up', 'glyburide-metformin_Down',\n",
      "       'glyburide-metformin_No', 'glyburide-metformin_Steady',\n",
      "       'glyburide-metformin_Up'],\n",
      "      dtype='object', length=102)\n"
     ]
    }
   ],
   "source": [
    "print(independent_columns)"
   ]
  },
  {
   "cell_type": "code",
   "execution_count": 31,
   "id": "3a72bf2c",
   "metadata": {},
   "outputs": [
    {
     "name": "stdout",
     "output_type": "stream",
     "text": [
      "                         Column                      Hypothesis\n",
      "0             admission_type_id          Reject Null Hypothesis\n",
      "1      discharge_disposition_id          Reject Null Hypothesis\n",
      "2           admission_source_id          Reject Null Hypothesis\n",
      "3              time_in_hospital          Reject Null Hypothesis\n",
      "4            num_lab_procedures          Reject Null Hypothesis\n",
      "..                          ...                             ...\n",
      "97                   insulin_Up          Reject Null Hypothesis\n",
      "98     glyburide-metformin_Down  Fail to Reject Null Hypothesis\n",
      "99       glyburide-metformin_No  Fail to Reject Null Hypothesis\n",
      "100  glyburide-metformin_Steady  Fail to Reject Null Hypothesis\n",
      "101      glyburide-metformin_Up  Fail to Reject Null Hypothesis\n",
      "\n",
      "[102 rows x 2 columns]\n"
     ]
    }
   ],
   "source": [
    "chi2_check = []\n",
    "for i in independent_columns:\n",
    "    if chi2_contingency(pd.crosstab(df_final['readmitted'], df_final[i]))[1] < 0.05:\n",
    "        chi2_check.append('Reject Null Hypothesis')\n",
    "    else:\n",
    "        chi2_check.append('Fail to Reject Null Hypothesis')\n",
    "res = pd.DataFrame(data = [independent_columns, chi2_check] \n",
    "             ).T \n",
    "res.columns = ['Column', 'Hypothesis']\n",
    "print(res)"
   ]
  },
  {
   "cell_type": "code",
   "execution_count": 39,
   "id": "5b786490",
   "metadata": {},
   "outputs": [
    {
     "name": "stdout",
     "output_type": "stream",
     "text": [
      "                      Column              Hypothesis\n",
      "0          admission_type_id  Reject Null Hypothesis\n",
      "1   discharge_disposition_id  Reject Null Hypothesis\n",
      "2        admission_source_id  Reject Null Hypothesis\n",
      "3           time_in_hospital  Reject Null Hypothesis\n",
      "4         num_lab_procedures  Reject Null Hypothesis\n",
      "5             num_procedures  Reject Null Hypothesis\n",
      "6            num_medications  Reject Null Hypothesis\n",
      "7          number_outpatient  Reject Null Hypothesis\n",
      "8           number_emergency  Reject Null Hypothesis\n",
      "9           number_inpatient  Reject Null Hypothesis\n",
      "10          number_diagnoses  Reject Null Hypothesis\n",
      "18                    change  Reject Null Hypothesis\n",
      "19               diabetesMed  Reject Null Hypothesis\n",
      "21        max_glu_serum_>300  Reject Null Hypothesis\n",
      "22        max_glu_serum_None  Reject Null Hypothesis\n",
      "24              A1Cresult_>7  Reject Null Hypothesis\n",
      "25              A1Cresult_>8  Reject Null Hypothesis\n",
      "26            A1Cresult_None  Reject Null Hypothesis\n",
      "27            A1Cresult_Norm  Reject Null Hypothesis\n",
      "29              metformin_No  Reject Null Hypothesis\n",
      "30          metformin_Steady  Reject Null Hypothesis\n",
      "31              metformin_Up  Reject Null Hypothesis\n",
      "33            repaglinide_No  Reject Null Hypothesis\n",
      "34        repaglinide_Steady  Reject Null Hypothesis\n",
      "43         chlorpropamide_Up  Reject Null Hypothesis\n",
      "45            glimepiride_No  Reject Null Hypothesis\n",
      "46        glimepiride_Steady  Reject Null Hypothesis\n",
      "48            glipizide_Down  Reject Null Hypothesis\n",
      "49              glipizide_No  Reject Null Hypothesis\n",
      "50          glipizide_Steady  Reject Null Hypothesis\n",
      "52            glyburide_Down  Reject Null Hypothesis\n",
      "57           pioglitazone_No  Reject Null Hypothesis\n",
      "58       pioglitazone_Steady  Reject Null Hypothesis\n",
      "60        rosiglitazone_Down  Reject Null Hypothesis\n",
      "61          rosiglitazone_No  Reject Null Hypothesis\n",
      "62      rosiglitazone_Steady  Reject Null Hypothesis\n",
      "65               acarbose_No  Reject Null Hypothesis\n",
      "66           acarbose_Steady  Reject Null Hypothesis\n",
      "68             miglitol_Down  Reject Null Hypothesis\n",
      "72                    race_?  Reject Null Hypothesis\n",
      "74                race_Asian  Reject Null Hypothesis\n",
      "75            race_Caucasian  Reject Null Hypothesis\n",
      "76             race_Hispanic  Reject Null Hypothesis\n",
      "77                race_Other  Reject Null Hypothesis\n",
      "78             gender_Female  Reject Null Hypothesis\n",
      "79               gender_Male  Reject Null Hypothesis\n",
      "81                age_[0-10)  Reject Null Hypothesis\n",
      "82               age_[10-20)  Reject Null Hypothesis\n",
      "83               age_[20-30)  Reject Null Hypothesis\n",
      "84               age_[30-40)  Reject Null Hypothesis\n",
      "85               age_[40-50)  Reject Null Hypothesis\n",
      "86               age_[50-60)  Reject Null Hypothesis\n",
      "88               age_[70-80)  Reject Null Hypothesis\n",
      "89               age_[80-90)  Reject Null Hypothesis\n",
      "90              age_[90-100)  Reject Null Hypothesis\n",
      "94              insulin_Down  Reject Null Hypothesis\n",
      "95                insulin_No  Reject Null Hypothesis\n",
      "96            insulin_Steady  Reject Null Hypothesis\n",
      "97                insulin_Up  Reject Null Hypothesis\n"
     ]
    }
   ],
   "source": [
    "print(res[res['Hypothesis'] == 'Reject Null Hypothesis'])"
   ]
  },
  {
   "cell_type": "code",
   "execution_count": 40,
   "id": "bd567f14",
   "metadata": {},
   "outputs": [],
   "source": [
    "a3_x = df_final[res[res['Hypothesis'] == 'Reject Null Hypothesis']['Column']]"
   ]
  },
  {
   "cell_type": "code",
   "execution_count": 41,
   "id": "97b740a1",
   "metadata": {},
   "outputs": [
    {
     "data": {
      "text/html": [
       "<div>\n",
       "<style scoped>\n",
       "    .dataframe tbody tr th:only-of-type {\n",
       "        vertical-align: middle;\n",
       "    }\n",
       "\n",
       "    .dataframe tbody tr th {\n",
       "        vertical-align: top;\n",
       "    }\n",
       "\n",
       "    .dataframe thead th {\n",
       "        text-align: right;\n",
       "    }\n",
       "</style>\n",
       "<table border=\"1\" class=\"dataframe\">\n",
       "  <thead>\n",
       "    <tr style=\"text-align: right;\">\n",
       "      <th></th>\n",
       "      <th>admission_type_id</th>\n",
       "      <th>discharge_disposition_id</th>\n",
       "      <th>admission_source_id</th>\n",
       "      <th>time_in_hospital</th>\n",
       "      <th>num_lab_procedures</th>\n",
       "      <th>num_procedures</th>\n",
       "      <th>num_medications</th>\n",
       "      <th>number_outpatient</th>\n",
       "      <th>number_emergency</th>\n",
       "      <th>number_inpatient</th>\n",
       "      <th>...</th>\n",
       "      <th>age_[30-40)</th>\n",
       "      <th>age_[40-50)</th>\n",
       "      <th>age_[50-60)</th>\n",
       "      <th>age_[70-80)</th>\n",
       "      <th>age_[80-90)</th>\n",
       "      <th>age_[90-100)</th>\n",
       "      <th>insulin_Down</th>\n",
       "      <th>insulin_No</th>\n",
       "      <th>insulin_Steady</th>\n",
       "      <th>insulin_Up</th>\n",
       "    </tr>\n",
       "    <tr>\n",
       "      <th>encounter_id</th>\n",
       "      <th></th>\n",
       "      <th></th>\n",
       "      <th></th>\n",
       "      <th></th>\n",
       "      <th></th>\n",
       "      <th></th>\n",
       "      <th></th>\n",
       "      <th></th>\n",
       "      <th></th>\n",
       "      <th></th>\n",
       "      <th></th>\n",
       "      <th></th>\n",
       "      <th></th>\n",
       "      <th></th>\n",
       "      <th></th>\n",
       "      <th></th>\n",
       "      <th></th>\n",
       "      <th></th>\n",
       "      <th></th>\n",
       "      <th></th>\n",
       "      <th></th>\n",
       "    </tr>\n",
       "  </thead>\n",
       "  <tbody>\n",
       "    <tr>\n",
       "      <th>2278392</th>\n",
       "      <td>6</td>\n",
       "      <td>25</td>\n",
       "      <td>1</td>\n",
       "      <td>1</td>\n",
       "      <td>41</td>\n",
       "      <td>0</td>\n",
       "      <td>1</td>\n",
       "      <td>0</td>\n",
       "      <td>0</td>\n",
       "      <td>0</td>\n",
       "      <td>...</td>\n",
       "      <td>0</td>\n",
       "      <td>0</td>\n",
       "      <td>0</td>\n",
       "      <td>0</td>\n",
       "      <td>0</td>\n",
       "      <td>0</td>\n",
       "      <td>0</td>\n",
       "      <td>1</td>\n",
       "      <td>0</td>\n",
       "      <td>0</td>\n",
       "    </tr>\n",
       "    <tr>\n",
       "      <th>149190</th>\n",
       "      <td>1</td>\n",
       "      <td>1</td>\n",
       "      <td>7</td>\n",
       "      <td>3</td>\n",
       "      <td>59</td>\n",
       "      <td>0</td>\n",
       "      <td>18</td>\n",
       "      <td>0</td>\n",
       "      <td>0</td>\n",
       "      <td>0</td>\n",
       "      <td>...</td>\n",
       "      <td>0</td>\n",
       "      <td>0</td>\n",
       "      <td>0</td>\n",
       "      <td>0</td>\n",
       "      <td>0</td>\n",
       "      <td>0</td>\n",
       "      <td>0</td>\n",
       "      <td>0</td>\n",
       "      <td>0</td>\n",
       "      <td>1</td>\n",
       "    </tr>\n",
       "    <tr>\n",
       "      <th>64410</th>\n",
       "      <td>1</td>\n",
       "      <td>1</td>\n",
       "      <td>7</td>\n",
       "      <td>2</td>\n",
       "      <td>11</td>\n",
       "      <td>5</td>\n",
       "      <td>13</td>\n",
       "      <td>2</td>\n",
       "      <td>0</td>\n",
       "      <td>1</td>\n",
       "      <td>...</td>\n",
       "      <td>0</td>\n",
       "      <td>0</td>\n",
       "      <td>0</td>\n",
       "      <td>0</td>\n",
       "      <td>0</td>\n",
       "      <td>0</td>\n",
       "      <td>0</td>\n",
       "      <td>1</td>\n",
       "      <td>0</td>\n",
       "      <td>0</td>\n",
       "    </tr>\n",
       "    <tr>\n",
       "      <th>500364</th>\n",
       "      <td>1</td>\n",
       "      <td>1</td>\n",
       "      <td>7</td>\n",
       "      <td>2</td>\n",
       "      <td>44</td>\n",
       "      <td>1</td>\n",
       "      <td>16</td>\n",
       "      <td>0</td>\n",
       "      <td>0</td>\n",
       "      <td>0</td>\n",
       "      <td>...</td>\n",
       "      <td>1</td>\n",
       "      <td>0</td>\n",
       "      <td>0</td>\n",
       "      <td>0</td>\n",
       "      <td>0</td>\n",
       "      <td>0</td>\n",
       "      <td>0</td>\n",
       "      <td>0</td>\n",
       "      <td>0</td>\n",
       "      <td>1</td>\n",
       "    </tr>\n",
       "    <tr>\n",
       "      <th>16680</th>\n",
       "      <td>1</td>\n",
       "      <td>1</td>\n",
       "      <td>7</td>\n",
       "      <td>1</td>\n",
       "      <td>51</td>\n",
       "      <td>0</td>\n",
       "      <td>8</td>\n",
       "      <td>0</td>\n",
       "      <td>0</td>\n",
       "      <td>0</td>\n",
       "      <td>...</td>\n",
       "      <td>0</td>\n",
       "      <td>1</td>\n",
       "      <td>0</td>\n",
       "      <td>0</td>\n",
       "      <td>0</td>\n",
       "      <td>0</td>\n",
       "      <td>0</td>\n",
       "      <td>0</td>\n",
       "      <td>1</td>\n",
       "      <td>0</td>\n",
       "    </tr>\n",
       "  </tbody>\n",
       "</table>\n",
       "<p>5 rows × 59 columns</p>\n",
       "</div>"
      ],
      "text/plain": [
       "              admission_type_id  discharge_disposition_id  \\\n",
       "encounter_id                                                \n",
       "2278392                       6                        25   \n",
       "149190                        1                         1   \n",
       "64410                         1                         1   \n",
       "500364                        1                         1   \n",
       "16680                         1                         1   \n",
       "\n",
       "              admission_source_id  time_in_hospital  num_lab_procedures  \\\n",
       "encounter_id                                                              \n",
       "2278392                         1                 1                  41   \n",
       "149190                          7                 3                  59   \n",
       "64410                           7                 2                  11   \n",
       "500364                          7                 2                  44   \n",
       "16680                           7                 1                  51   \n",
       "\n",
       "              num_procedures  num_medications  number_outpatient  \\\n",
       "encounter_id                                                       \n",
       "2278392                    0                1                  0   \n",
       "149190                     0               18                  0   \n",
       "64410                      5               13                  2   \n",
       "500364                     1               16                  0   \n",
       "16680                      0                8                  0   \n",
       "\n",
       "              number_emergency  number_inpatient  ...  age_[30-40)  \\\n",
       "encounter_id                                      ...                \n",
       "2278392                      0                 0  ...            0   \n",
       "149190                       0                 0  ...            0   \n",
       "64410                        0                 1  ...            0   \n",
       "500364                       0                 0  ...            1   \n",
       "16680                        0                 0  ...            0   \n",
       "\n",
       "              age_[40-50)  age_[50-60)  age_[70-80)  age_[80-90)  \\\n",
       "encounter_id                                                       \n",
       "2278392                 0            0            0            0   \n",
       "149190                  0            0            0            0   \n",
       "64410                   0            0            0            0   \n",
       "500364                  0            0            0            0   \n",
       "16680                   1            0            0            0   \n",
       "\n",
       "              age_[90-100)  insulin_Down  insulin_No  insulin_Steady  \\\n",
       "encounter_id                                                           \n",
       "2278392                  0             0           1               0   \n",
       "149190                   0             0           0               0   \n",
       "64410                    0             0           1               0   \n",
       "500364                   0             0           0               0   \n",
       "16680                    0             0           0               1   \n",
       "\n",
       "              insulin_Up  \n",
       "encounter_id              \n",
       "2278392                0  \n",
       "149190                 1  \n",
       "64410                  0  \n",
       "500364                 1  \n",
       "16680                  0  \n",
       "\n",
       "[5 rows x 59 columns]"
      ]
     },
     "execution_count": 41,
     "metadata": {},
     "output_type": "execute_result"
    }
   ],
   "source": [
    "a3_x.head()"
   ]
  },
  {
   "cell_type": "code",
   "execution_count": 42,
   "id": "d8d29058",
   "metadata": {},
   "outputs": [],
   "source": [
    "a3_y = df_final['readmitted']"
   ]
  },
  {
   "cell_type": "code",
   "execution_count": 43,
   "id": "0172baa3",
   "metadata": {},
   "outputs": [],
   "source": [
    "X_traina3, X_test_a3, y_train_a3, y_test_a3 = train_test_split(a3_x, a3_y, test_size=0.2)"
   ]
  },
  {
   "cell_type": "code",
   "execution_count": 44,
   "id": "00b5e056",
   "metadata": {},
   "outputs": [
    {
     "name": "stdout",
     "output_type": "stream",
     "text": [
      "3 - 0.5504077822541024\n",
      "4 - 0.5594477743932397\n",
      "5 - 0.5673086371229242\n",
      "6 - 0.574530804755822\n",
      "7 - 0.5782647145524221\n",
      "8 - 0.5800334086666011\n",
      "9 - 0.5852903606170777\n",
      "10 - 0.585781664537683\n",
      "11 - 0.5861255772821067\n",
      "12 - 0.5877468802201041\n",
      "13 - 0.5864694900265304\n",
      "14 - 0.5873538370836199\n",
      "15 - 0.5880416625724674\n",
      "16 - 0.5876977498280437\n",
      "17 - 0.5880907929645278\n",
      "18 - 0.58828731453277\n",
      "19 - 0.5895647047263437\n",
      "20 - 0.5869116635550752\n",
      "21 - 0.5887294880613148\n",
      "22 - 0.586715141986833\n",
      "23 - 0.5851920998329566\n",
      "24 - 0.58828731453277\n",
      "25 - 0.5868625331630146\n",
      "26 - 0.5861747076741672\n",
      "27 - 0.5826373194458092\n",
      "28 - 0.5839638400314434\n",
      "29 - 0.5827355802299302\n"
     ]
    }
   ],
   "source": [
    "for i in range(3,30,1):\n",
    "    clf = RandomForestClassifier(max_depth=i)\n",
    "    clf = clf.fit(X_traina3, y_train_a3)\n",
    "    print(i,\"-\", clf.score(X_test_a3, y_test_a3))"
   ]
  },
  {
   "cell_type": "code",
   "execution_count": 48,
   "id": "99514585",
   "metadata": {},
   "outputs": [
    {
     "data": {
      "text/plain": [
       "LogisticRegression(max_iter=10000)"
      ]
     },
     "execution_count": 48,
     "metadata": {},
     "output_type": "execute_result"
    }
   ],
   "source": [
    "# from sklearn.linear_model import LogisticRegression\n",
    "log_model = LogisticRegression(max_iter = 10000)\n",
    "log_model.fit(X_traina3, y_train_a3)"
   ]
  },
  {
   "cell_type": "code",
   "execution_count": 50,
   "id": "a1e474e3",
   "metadata": {},
   "outputs": [],
   "source": [
    "from sklearn.metrics import classification_report, confusion_matrix, roc_curve,auc, accuracy_score"
   ]
  },
  {
   "cell_type": "code",
   "execution_count": 51,
   "id": "63beb043",
   "metadata": {},
   "outputs": [
    {
     "name": "stdout",
     "output_type": "stream",
     "text": [
      "0.577232976319151\n"
     ]
    }
   ],
   "source": [
    "predictions = log_model.predict(X_test_a3)\n",
    "print(accuracy_score(y_test_a3, predictions))"
   ]
  },
  {
   "cell_type": "markdown",
   "id": "9b4a7cae",
   "metadata": {},
   "source": [
    "# trying out ordinal encoder"
   ]
  },
  {
   "cell_type": "code",
   "execution_count": 59,
   "id": "b3955983",
   "metadata": {},
   "outputs": [],
   "source": [
    "from sklearn.preprocessing import LabelEncoder\n",
    "labelencoder = LabelEncoder()"
   ]
  },
  {
   "cell_type": "code",
   "execution_count": 60,
   "id": "5ecd7a52",
   "metadata": {},
   "outputs": [],
   "source": [
    "categorical_columns = df.select_dtypes(include='object').columns"
   ]
  },
  {
   "cell_type": "code",
   "execution_count": 63,
   "id": "950be9f0",
   "metadata": {},
   "outputs": [],
   "source": [
    "df[categorical_columns] = df[categorical_columns].apply(LabelEncoder().fit_transform)"
   ]
  },
  {
   "cell_type": "code",
   "execution_count": 64,
   "id": "523e5e05",
   "metadata": {},
   "outputs": [
    {
     "data": {
      "text/html": [
       "<div>\n",
       "<style scoped>\n",
       "    .dataframe tbody tr th:only-of-type {\n",
       "        vertical-align: middle;\n",
       "    }\n",
       "\n",
       "    .dataframe tbody tr th {\n",
       "        vertical-align: top;\n",
       "    }\n",
       "\n",
       "    .dataframe thead th {\n",
       "        text-align: right;\n",
       "    }\n",
       "</style>\n",
       "<table border=\"1\" class=\"dataframe\">\n",
       "  <thead>\n",
       "    <tr style=\"text-align: right;\">\n",
       "      <th></th>\n",
       "      <th>race</th>\n",
       "      <th>gender</th>\n",
       "      <th>age</th>\n",
       "      <th>admission_type_id</th>\n",
       "      <th>discharge_disposition_id</th>\n",
       "      <th>admission_source_id</th>\n",
       "      <th>time_in_hospital</th>\n",
       "      <th>num_lab_procedures</th>\n",
       "      <th>num_procedures</th>\n",
       "      <th>num_medications</th>\n",
       "      <th>...</th>\n",
       "      <th>tolazamide</th>\n",
       "      <th>insulin</th>\n",
       "      <th>glyburide-metformin</th>\n",
       "      <th>glipizide-metformin</th>\n",
       "      <th>glimepiride-pioglitazone</th>\n",
       "      <th>metformin-rosiglitazone</th>\n",
       "      <th>metformin-pioglitazone</th>\n",
       "      <th>change</th>\n",
       "      <th>diabetesMed</th>\n",
       "      <th>readmitted</th>\n",
       "    </tr>\n",
       "    <tr>\n",
       "      <th>encounter_id</th>\n",
       "      <th></th>\n",
       "      <th></th>\n",
       "      <th></th>\n",
       "      <th></th>\n",
       "      <th></th>\n",
       "      <th></th>\n",
       "      <th></th>\n",
       "      <th></th>\n",
       "      <th></th>\n",
       "      <th></th>\n",
       "      <th></th>\n",
       "      <th></th>\n",
       "      <th></th>\n",
       "      <th></th>\n",
       "      <th></th>\n",
       "      <th></th>\n",
       "      <th></th>\n",
       "      <th></th>\n",
       "      <th></th>\n",
       "      <th></th>\n",
       "      <th></th>\n",
       "    </tr>\n",
       "  </thead>\n",
       "  <tbody>\n",
       "    <tr>\n",
       "      <th>2278392</th>\n",
       "      <td>3</td>\n",
       "      <td>0</td>\n",
       "      <td>0</td>\n",
       "      <td>6</td>\n",
       "      <td>25</td>\n",
       "      <td>1</td>\n",
       "      <td>1</td>\n",
       "      <td>41</td>\n",
       "      <td>0</td>\n",
       "      <td>1</td>\n",
       "      <td>...</td>\n",
       "      <td>0</td>\n",
       "      <td>1</td>\n",
       "      <td>1</td>\n",
       "      <td>0</td>\n",
       "      <td>0</td>\n",
       "      <td>0</td>\n",
       "      <td>0</td>\n",
       "      <td>1</td>\n",
       "      <td>0</td>\n",
       "      <td>2</td>\n",
       "    </tr>\n",
       "    <tr>\n",
       "      <th>149190</th>\n",
       "      <td>3</td>\n",
       "      <td>0</td>\n",
       "      <td>1</td>\n",
       "      <td>1</td>\n",
       "      <td>1</td>\n",
       "      <td>7</td>\n",
       "      <td>3</td>\n",
       "      <td>59</td>\n",
       "      <td>0</td>\n",
       "      <td>18</td>\n",
       "      <td>...</td>\n",
       "      <td>0</td>\n",
       "      <td>3</td>\n",
       "      <td>1</td>\n",
       "      <td>0</td>\n",
       "      <td>0</td>\n",
       "      <td>0</td>\n",
       "      <td>0</td>\n",
       "      <td>0</td>\n",
       "      <td>1</td>\n",
       "      <td>1</td>\n",
       "    </tr>\n",
       "    <tr>\n",
       "      <th>64410</th>\n",
       "      <td>1</td>\n",
       "      <td>0</td>\n",
       "      <td>2</td>\n",
       "      <td>1</td>\n",
       "      <td>1</td>\n",
       "      <td>7</td>\n",
       "      <td>2</td>\n",
       "      <td>11</td>\n",
       "      <td>5</td>\n",
       "      <td>13</td>\n",
       "      <td>...</td>\n",
       "      <td>0</td>\n",
       "      <td>1</td>\n",
       "      <td>1</td>\n",
       "      <td>0</td>\n",
       "      <td>0</td>\n",
       "      <td>0</td>\n",
       "      <td>0</td>\n",
       "      <td>1</td>\n",
       "      <td>1</td>\n",
       "      <td>2</td>\n",
       "    </tr>\n",
       "    <tr>\n",
       "      <th>500364</th>\n",
       "      <td>3</td>\n",
       "      <td>1</td>\n",
       "      <td>3</td>\n",
       "      <td>1</td>\n",
       "      <td>1</td>\n",
       "      <td>7</td>\n",
       "      <td>2</td>\n",
       "      <td>44</td>\n",
       "      <td>1</td>\n",
       "      <td>16</td>\n",
       "      <td>...</td>\n",
       "      <td>0</td>\n",
       "      <td>3</td>\n",
       "      <td>1</td>\n",
       "      <td>0</td>\n",
       "      <td>0</td>\n",
       "      <td>0</td>\n",
       "      <td>0</td>\n",
       "      <td>0</td>\n",
       "      <td>1</td>\n",
       "      <td>2</td>\n",
       "    </tr>\n",
       "    <tr>\n",
       "      <th>16680</th>\n",
       "      <td>3</td>\n",
       "      <td>1</td>\n",
       "      <td>4</td>\n",
       "      <td>1</td>\n",
       "      <td>1</td>\n",
       "      <td>7</td>\n",
       "      <td>1</td>\n",
       "      <td>51</td>\n",
       "      <td>0</td>\n",
       "      <td>8</td>\n",
       "      <td>...</td>\n",
       "      <td>0</td>\n",
       "      <td>2</td>\n",
       "      <td>1</td>\n",
       "      <td>0</td>\n",
       "      <td>0</td>\n",
       "      <td>0</td>\n",
       "      <td>0</td>\n",
       "      <td>0</td>\n",
       "      <td>1</td>\n",
       "      <td>2</td>\n",
       "    </tr>\n",
       "  </tbody>\n",
       "</table>\n",
       "<p>5 rows × 40 columns</p>\n",
       "</div>"
      ],
      "text/plain": [
       "              race  gender  age  admission_type_id  discharge_disposition_id  \\\n",
       "encounter_id                                                                   \n",
       "2278392          3       0    0                  6                        25   \n",
       "149190           3       0    1                  1                         1   \n",
       "64410            1       0    2                  1                         1   \n",
       "500364           3       1    3                  1                         1   \n",
       "16680            3       1    4                  1                         1   \n",
       "\n",
       "              admission_source_id  time_in_hospital  num_lab_procedures  \\\n",
       "encounter_id                                                              \n",
       "2278392                         1                 1                  41   \n",
       "149190                          7                 3                  59   \n",
       "64410                           7                 2                  11   \n",
       "500364                          7                 2                  44   \n",
       "16680                           7                 1                  51   \n",
       "\n",
       "              num_procedures  num_medications  ...  tolazamide  insulin  \\\n",
       "encounter_id                                   ...                        \n",
       "2278392                    0                1  ...           0        1   \n",
       "149190                     0               18  ...           0        3   \n",
       "64410                      5               13  ...           0        1   \n",
       "500364                     1               16  ...           0        3   \n",
       "16680                      0                8  ...           0        2   \n",
       "\n",
       "              glyburide-metformin  glipizide-metformin  \\\n",
       "encounter_id                                             \n",
       "2278392                         1                    0   \n",
       "149190                          1                    0   \n",
       "64410                           1                    0   \n",
       "500364                          1                    0   \n",
       "16680                           1                    0   \n",
       "\n",
       "              glimepiride-pioglitazone  metformin-rosiglitazone  \\\n",
       "encounter_id                                                      \n",
       "2278392                              0                        0   \n",
       "149190                               0                        0   \n",
       "64410                                0                        0   \n",
       "500364                               0                        0   \n",
       "16680                                0                        0   \n",
       "\n",
       "              metformin-pioglitazone  change  diabetesMed  readmitted  \n",
       "encounter_id                                                           \n",
       "2278392                            0       1            0           2  \n",
       "149190                             0       0            1           1  \n",
       "64410                              0       1            1           2  \n",
       "500364                             0       0            1           2  \n",
       "16680                              0       0            1           2  \n",
       "\n",
       "[5 rows x 40 columns]"
      ]
     },
     "execution_count": 64,
     "metadata": {},
     "output_type": "execute_result"
    }
   ],
   "source": [
    "df.head()"
   ]
  },
  {
   "cell_type": "code",
   "execution_count": 65,
   "id": "c727b117",
   "metadata": {},
   "outputs": [],
   "source": [
    "X_traina4, X_test_a4, y_train_a4, y_test_a4 = train_test_split(df.iloc[:, df.columns != 'readmitted'], df['readmitted'], test_size=0.2)"
   ]
  },
  {
   "cell_type": "code",
   "execution_count": 66,
   "id": "0fdc8196",
   "metadata": {},
   "outputs": [
    {
     "name": "stdout",
     "output_type": "stream",
     "text": [
      "3 - 0.5690282008450428\n",
      "4 - 0.572025154760735\n",
      "5 - 0.5826373194458092\n",
      "6 - 0.5865677508106515\n",
      "7 - 0.5905964429596148\n",
      "8 - 0.5908420949199175\n",
      "9 - 0.5911860076643412\n",
      "10 - 0.5925616586420359\n",
      "11 - 0.5938390488356097\n",
      "12 - 0.5941829615800334\n",
      "13 - 0.5922668762896728\n",
      "14 - 0.5922668762896728\n"
     ]
    }
   ],
   "source": [
    "for i in range(3,15,1):\n",
    "    clf = RandomForestClassifier(max_depth=i)\n",
    "    clf = clf.fit(X_traina4, y_train_a4)\n",
    "    print(i,\"-\", clf.score(X_test_a4, y_test_a4))"
   ]
  },
  {
   "cell_type": "code",
   "execution_count": 70,
   "id": "ff351fd1",
   "metadata": {},
   "outputs": [
    {
     "name": "stdout",
     "output_type": "stream",
     "text": [
      "                      Column                      Hypothesis\n",
      "0                       race          Reject Null Hypothesis\n",
      "1                     gender          Reject Null Hypothesis\n",
      "2                        age          Reject Null Hypothesis\n",
      "3          admission_type_id          Reject Null Hypothesis\n",
      "4   discharge_disposition_id          Reject Null Hypothesis\n",
      "5        admission_source_id          Reject Null Hypothesis\n",
      "6           time_in_hospital          Reject Null Hypothesis\n",
      "7         num_lab_procedures          Reject Null Hypothesis\n",
      "8             num_procedures          Reject Null Hypothesis\n",
      "9            num_medications          Reject Null Hypothesis\n",
      "10         number_outpatient          Reject Null Hypothesis\n",
      "11          number_emergency          Reject Null Hypothesis\n",
      "12          number_inpatient          Reject Null Hypothesis\n",
      "13          number_diagnoses          Reject Null Hypothesis\n",
      "14             max_glu_serum          Reject Null Hypothesis\n",
      "15                 A1Cresult          Reject Null Hypothesis\n",
      "16                 metformin          Reject Null Hypothesis\n",
      "17               repaglinide          Reject Null Hypothesis\n",
      "18               nateglinide  Fail to Reject Null Hypothesis\n",
      "19            chlorpropamide  Fail to Reject Null Hypothesis\n",
      "20               glimepiride          Reject Null Hypothesis\n",
      "21             acetohexamide  Fail to Reject Null Hypothesis\n",
      "22                 glipizide          Reject Null Hypothesis\n",
      "23                 glyburide  Fail to Reject Null Hypothesis\n",
      "24               tolbutamide  Fail to Reject Null Hypothesis\n",
      "25              pioglitazone          Reject Null Hypothesis\n",
      "26             rosiglitazone          Reject Null Hypothesis\n",
      "27                  acarbose          Reject Null Hypothesis\n",
      "28                  miglitol  Fail to Reject Null Hypothesis\n",
      "29              troglitazone  Fail to Reject Null Hypothesis\n",
      "30                tolazamide  Fail to Reject Null Hypothesis\n",
      "31                   insulin          Reject Null Hypothesis\n",
      "32       glyburide-metformin  Fail to Reject Null Hypothesis\n",
      "33       glipizide-metformin  Fail to Reject Null Hypothesis\n",
      "34  glimepiride-pioglitazone  Fail to Reject Null Hypothesis\n",
      "35   metformin-rosiglitazone  Fail to Reject Null Hypothesis\n",
      "36    metformin-pioglitazone  Fail to Reject Null Hypothesis\n",
      "37                    change          Reject Null Hypothesis\n",
      "38               diabetesMed          Reject Null Hypothesis\n"
     ]
    }
   ],
   "source": [
    "chi2_check = []\n",
    "for i in df.iloc[:, df.columns!='readmitted'].columns:\n",
    "    if chi2_contingency(pd.crosstab(df['readmitted'], df[i]))[1] < 0.05:\n",
    "        chi2_check.append('Reject Null Hypothesis')\n",
    "    else:\n",
    "        chi2_check.append('Fail to Reject Null Hypothesis')\n",
    "res = pd.DataFrame(data = [df.iloc[:, df.columns!='readmitted'].columns, chi2_check] \n",
    "             ).T \n",
    "res.columns = ['Column', 'Hypothesis']\n",
    "print(res)"
   ]
  },
  {
   "cell_type": "code",
   "execution_count": 69,
   "id": "57fa0c42",
   "metadata": {},
   "outputs": [
    {
     "data": {
      "text/plain": [
       "Index(['race', 'gender', 'age', 'admission_type_id',\n",
       "       'discharge_disposition_id', 'admission_source_id', 'time_in_hospital',\n",
       "       'num_lab_procedures', 'num_procedures', 'num_medications',\n",
       "       'number_outpatient', 'number_emergency', 'number_inpatient',\n",
       "       'number_diagnoses', 'max_glu_serum', 'A1Cresult', 'metformin',\n",
       "       'repaglinide', 'nateglinide', 'chlorpropamide', 'glimepiride',\n",
       "       'acetohexamide', 'glipizide', 'glyburide', 'tolbutamide',\n",
       "       'pioglitazone', 'rosiglitazone', 'acarbose', 'miglitol', 'troglitazone',\n",
       "       'tolazamide', 'insulin', 'glyburide-metformin', 'glipizide-metformin',\n",
       "       'glimepiride-pioglitazone', 'metformin-rosiglitazone',\n",
       "       'metformin-pioglitazone', 'change', 'diabetesMed'],\n",
       "      dtype='object')"
      ]
     },
     "execution_count": 69,
     "metadata": {},
     "output_type": "execute_result"
    }
   ],
   "source": [
    "df.iloc[:, df.columns!='readmitted'].columns"
   ]
  },
  {
   "cell_type": "code",
   "execution_count": 75,
   "id": "cbbec4d1",
   "metadata": {},
   "outputs": [
    {
     "data": {
      "text/plain": [
       "(101766, 26)"
      ]
     },
     "execution_count": 75,
     "metadata": {},
     "output_type": "execute_result"
    }
   ],
   "source": [
    "a5_x = df[res[res['Hypothesis'] == 'Reject Null Hypothesis']['Column']]\n",
    "a5_x.shape"
   ]
  },
  {
   "cell_type": "code",
   "execution_count": 76,
   "id": "b1dde2a2",
   "metadata": {},
   "outputs": [
    {
     "data": {
      "text/plain": [
       "(101766,)"
      ]
     },
     "execution_count": 76,
     "metadata": {},
     "output_type": "execute_result"
    }
   ],
   "source": [
    "df['readmitted'].shape"
   ]
  },
  {
   "cell_type": "code",
   "execution_count": 77,
   "id": "b90650dd",
   "metadata": {},
   "outputs": [],
   "source": [
    "X_traina5, X_test_a5, y_train_a5, y_test_a5 = train_test_split(a5_x, df['readmitted'], test_size=0.2)"
   ]
  },
  {
   "cell_type": "code",
   "execution_count": 78,
   "id": "b7328f8a",
   "metadata": {},
   "outputs": [
    {
     "name": "stdout",
     "output_type": "stream",
     "text": [
      "3 - 0.5619042939962661\n",
      "4 - 0.5643608135992926\n",
      "5 - 0.5764468900461825\n",
      "6 - 0.5780190625921194\n",
      "7 - 0.5781664537683011\n",
      "8 - 0.580573842979267\n",
      "9 - 0.5800825390586617\n",
      "10 - 0.5806229733713275\n",
      "11 - 0.5825881890537487\n",
      "12 - 0.5815564508204776\n",
      "13 - 0.5814581900363565\n",
      "14 - 0.5829812321902329\n"
     ]
    }
   ],
   "source": [
    "for i in range(3,15,1):\n",
    "    clf = RandomForestClassifier(max_depth=i)\n",
    "    clf = clf.fit(X_traina5, y_train_a5)\n",
    "    print(i,\"-\", clf.score(X_test_a5, y_test_a5))"
   ]
  },
  {
   "cell_type": "markdown",
   "id": "46d09f76",
   "metadata": {},
   "source": [
    "# pca"
   ]
  },
  {
   "cell_type": "code",
   "execution_count": 79,
   "id": "95892b27",
   "metadata": {},
   "outputs": [],
   "source": [
    "from sklearn.decomposition import PCA"
   ]
  },
  {
   "cell_type": "code",
   "execution_count": 80,
   "id": "2770e70d",
   "metadata": {},
   "outputs": [],
   "source": [
    "pca = PCA(n_components=2)"
   ]
  },
  {
   "cell_type": "code",
   "execution_count": 82,
   "id": "7225b8a7",
   "metadata": {},
   "outputs": [],
   "source": [
    "a6_x = pd.DataFrame(pca.fit_transform(df.iloc[:, df.columns != 'readmitted']))"
   ]
  },
  {
   "cell_type": "code",
   "execution_count": 84,
   "id": "053fcac1",
   "metadata": {},
   "outputs": [
    {
     "data": {
      "text/plain": [
       "(101766, 2)"
      ]
     },
     "execution_count": 84,
     "metadata": {},
     "output_type": "execute_result"
    }
   ],
   "source": [
    "a6_x.head()\n",
    "a6_x.shape"
   ]
  },
  {
   "cell_type": "code",
   "execution_count": 85,
   "id": "249d46c7",
   "metadata": {},
   "outputs": [],
   "source": [
    "X_traina6, X_test_a6, y_train_a6, y_test_a6 = train_test_split(a6_x, df['readmitted'], test_size=0.2)"
   ]
  },
  {
   "cell_type": "code",
   "execution_count": 86,
   "id": "ef0ccdaf",
   "metadata": {},
   "outputs": [
    {
     "name": "stdout",
     "output_type": "stream",
     "text": [
      "3 - 0.5412203989387835\n",
      "4 - 0.5412203989387835\n",
      "5 - 0.5412203989387835\n",
      "6 - 0.541171268546723\n",
      "7 - 0.541171268546723\n",
      "8 - 0.5411221381546625\n",
      "9 - 0.5411221381546625\n",
      "10 - 0.5410238773705414\n",
      "11 - 0.5407782254102388\n",
      "12 - 0.5407782254102388\n",
      "13 - 0.5399430087452098\n",
      "14 - 0.5393534440404835\n"
     ]
    }
   ],
   "source": [
    "for i in range(3,15,1):\n",
    "    clf = RandomForestClassifier(max_depth=i)\n",
    "    clf = clf.fit(X_traina6, y_train_a6)\n",
    "    print(i,\"-\", clf.score(X_test_a6, y_test_a6))"
   ]
  },
  {
   "cell_type": "code",
   "execution_count": 87,
   "id": "94513285",
   "metadata": {},
   "outputs": [],
   "source": [
    "pca = PCA(n_components=15)\n",
    "a7_x = pd.DataFrame(pca.fit_transform(df.iloc[:, df.columns != 'readmitted']))\n",
    "X_traina7, X_test_a7, y_train_a7, y_test_a7 = train_test_split(a7_x, df['readmitted'], test_size=0.2)"
   ]
  },
  {
   "cell_type": "code",
   "execution_count": 88,
   "id": "d114ce2d",
   "metadata": {},
   "outputs": [
    {
     "name": "stdout",
     "output_type": "stream",
     "text": [
      "3 - 0.5627395106612951\n",
      "4 - 0.56691559398644\n",
      "5 - 0.5703055910386164\n",
      "6 - 0.5707968949592218\n",
      "7 - 0.5736464576987325\n",
      "8 - 0.5759064557335167\n",
      "9 - 0.578903409649209\n",
      "10 - 0.5792473223936327\n",
      "11 - 0.5803773214110248\n",
      "12 - 0.5799842782745406\n",
      "13 - 0.5825390586616881\n",
      "14 - 0.5830794929743539\n"
     ]
    }
   ],
   "source": [
    "for i in range(3,15,1):\n",
    "    clf = RandomForestClassifier(max_depth=i)\n",
    "    clf = clf.fit(X_traina7, y_train_a7)\n",
    "    print(i,\"-\", clf.score(X_test_a7, y_test_a7))"
   ]
  },
  {
   "cell_type": "markdown",
   "id": "e7c4712a",
   "metadata": {},
   "source": [
    "# knn"
   ]
  },
  {
   "cell_type": "code",
   "execution_count": 89,
   "id": "36f2ef76",
   "metadata": {},
   "outputs": [],
   "source": [
    "from sklearn.neighbors import KNeighborsClassifier\n",
    "neigh = KNeighborsClassifier(n_neighbors=3)"
   ]
  },
  {
   "cell_type": "code",
   "execution_count": 90,
   "id": "1e084afd",
   "metadata": {},
   "outputs": [],
   "source": [
    "X_traina8, X_test_a8, y_train_a8, y_test_a8 = train_test_split(df.iloc[:, df.columns != 'readmitted'], df['readmitted'], test_size=0.2)"
   ]
  },
  {
   "cell_type": "code",
   "execution_count": 91,
   "id": "106d3882",
   "metadata": {},
   "outputs": [
    {
     "data": {
      "text/plain": [
       "0.4782352363171858"
      ]
     },
     "execution_count": 91,
     "metadata": {},
     "output_type": "execute_result"
    }
   ],
   "source": [
    "neigh.fit(X_traina8, y_train_a8)\n",
    "neigh.score(X_test_a8, y_test_a8)"
   ]
  },
  {
   "cell_type": "code",
   "execution_count": null,
   "id": "20cd86f7",
   "metadata": {},
   "outputs": [],
   "source": []
  }
 ],
 "metadata": {
  "kernelspec": {
   "display_name": "Python 3",
   "language": "python",
   "name": "python3"
  },
  "language_info": {
   "codemirror_mode": {
    "name": "ipython",
    "version": 3
   },
   "file_extension": ".py",
   "mimetype": "text/x-python",
   "name": "python",
   "nbconvert_exporter": "python",
   "pygments_lexer": "ipython3",
   "version": "3.8.8"
  }
 },
 "nbformat": 4,
 "nbformat_minor": 5
}
